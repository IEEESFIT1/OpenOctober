{
  "nbformat": 4,
  "nbformat_minor": 0,
  "metadata": {
    "colab": {
      "name": "Armstrong number",
      "provenance": []
    },
    "kernelspec": {
      "name": "python3",
      "display_name": "Python 3"
    },
    "language_info": {
      "name": "python"
    }
  },
  "cells": [
    {
      "cell_type": "code",
      "metadata": {
        "colab": {
          "base_uri": "https://localhost:8080/"
        },
        "id": "9zJUmsB0YIBi",
        "outputId": "bd5086c5-3c58-4c43-b0ac-b9c09f73512a"
      },
      "source": [
        "num = int(input('Enter a number: '))\n",
        "num_og = num2 = num\n",
        "sum1 = 0\n",
        "cnt=0\n",
        "\n",
        "while (num>0):\n",
        "  cnt=cnt+1\n",
        "  num=num//10\n",
        "\n",
        "while (num2>0):\n",
        "  rem = num2% 10\n",
        "  sum1 += rem ** cnt\n",
        "  num2//= 10\n",
        "\n",
        "if(num_og==sum1):\n",
        "    print('Armstrong!!')\n",
        "else:\n",
        "    print('Not Armstrong!')"
      ],
      "execution_count": 1,
      "outputs": [
        {
          "output_type": "stream",
          "name": "stdout",
          "text": [
            "Enter a number: 15\n",
            "Not Armstrong!\n"
          ]
        }
      ]
    }
  ]
}