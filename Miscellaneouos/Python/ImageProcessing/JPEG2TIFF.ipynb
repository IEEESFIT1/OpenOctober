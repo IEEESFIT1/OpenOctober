{
  "nbformat": 4,
  "nbformat_minor": 0,
  "metadata": {
    "colab": {
      "name": "JPEG2TIFF",
      "provenance": []
    },
    "kernelspec": {
      "name": "python3",
      "display_name": "Python 3"
    },
    "language_info": {
      "name": "python"
    }
  },
  "cells": [
    {
      "cell_type": "code",
      "metadata": {
        "id": "adIIiejMjlS7"
      },
      "source": [
        "import os\n",
        "files = [file for file in os.listdir('.') if os.path.isfile(file) and file.endswith('.jpeg')]\n",
        "\n",
        "#make a separate directory for reports\n",
        "os.mkdir('./JPEG2TIFF')\n",
        "\n",
        "for file in files:\n",
        "    #loop through files and do your operation\n",
        "    #save to reports directory\n",
        "    report_name = file + '_to'\n",
        "    im = Image.open(file)\n",
        "    im.save('./JPEG2TIFF/'+report_name+'.tiff', 'TIFF')\n"
      ],
      "execution_count": 11,
      "outputs": []
    }
  ]
}