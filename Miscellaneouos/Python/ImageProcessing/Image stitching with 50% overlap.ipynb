{
  "nbformat": 4,
  "nbformat_minor": 0,
  "metadata": {
    "colab": {
      "name": "Wallpaper Example",
      "provenance": []
    },
    "kernelspec": {
      "name": "python3",
      "display_name": "Python 3"
    },
    "language_info": {
      "name": "python"
    }
  },
  "cells": [
    {
      "cell_type": "code",
      "metadata": {
        "id": "QrPXcUMuTFe1"
      },
      "source": [
        "import cv2\n",
        "path_to_img = \"/content/wallpaperflare.com_wallpaper.jpg\"\n",
        "img = cv2.imread(path_to_img)\n",
        "img_h, img_w, _ = img.shape\n",
        "split_width = 150\n",
        "split_height = 150"
      ],
      "execution_count": null,
      "outputs": []
    },
    {
      "cell_type": "code",
      "metadata": {
        "id": "LRv3kYlzUQMf"
      },
      "source": [
        "def start_points(size, split_size, overlap=0):\n",
        "    points = [0]\n",
        "    stride = int(split_size * (1-overlap))\n",
        "    counter = 1\n",
        "    while True:\n",
        "        pt = stride * counter\n",
        "        if pt + split_size >= size:\n",
        "            points.append(size - split_size)\n",
        "            break\n",
        "        else:\n",
        "            points.append(pt)\n",
        "        counter += 1\n",
        "    return points"
      ],
      "execution_count": null,
      "outputs": []
    },
    {
      "cell_type": "code",
      "metadata": {
        "id": "eMuQPv31ULzi"
      },
      "source": [
        "X_points = start_points(img_w, split_width, 0.5)\n",
        "Y_points = start_points(img_h, split_height, 0.5)"
      ],
      "execution_count": null,
      "outputs": []
    },
    {
      "cell_type": "code",
      "metadata": {
        "id": "D6FVjY6TUI0M"
      },
      "source": [
        "count = 0\n",
        "name = 'splitted'\n",
        "frmt = 'jpg'"
      ],
      "execution_count": null,
      "outputs": []
    },
    {
      "cell_type": "code",
      "metadata": {
        "id": "7yDTkq6rWe0G"
      },
      "source": [
        "!mkdir op"
      ],
      "execution_count": null,
      "outputs": []
    },
    {
      "cell_type": "code",
      "metadata": {
        "id": "cswMK0prUGD8"
      },
      "source": [
        "for i in Y_points:\n",
        "    for j in X_points:\n",
        "        split = img[i:i+split_height, j:j+split_width]\n",
        "        cv2.imwrite('/content/op/{}_{}.{}'.format(name, count, frmt), split)\n",
        "        count += 1\n",
        "        "
      ],
      "execution_count": null,
      "outputs": []
    }
  ]
}