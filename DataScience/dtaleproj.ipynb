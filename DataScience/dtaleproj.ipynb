{
 "cells": [
  {
   "cell_type": "code",
   "execution_count": 1,
   "id": "51d98c78",
   "metadata": {
    "scrolled": true
   },
   "outputs": [
    {
     "name": "stderr",
     "output_type": "stream",
     "text": [
      "C:\\Users\\91937\\anaconda3\\lib\\site-packages\\dash_bootstrap_components\\_table.py:5: UserWarning:\n",
      "\n",
      "\n",
      "The dash_html_components package is deprecated. Please replace\n",
      "`import dash_html_components as html` with `from dash import html`\n",
      "\n",
      "2021-10-13 14:23:08,003 - INFO     - NumExpr defaulting to 8 threads.\n"
     ]
    },
    {
     "data": {
      "text/html": [
       "\n",
       "        <iframe\n",
       "            width=\"100%\"\n",
       "            height=\"475\"\n",
       "            src=\"http://DESKTOP-BBN03Q1:40000/dtale/iframe/1\"\n",
       "            frameborder=\"0\"\n",
       "            allowfullscreen\n",
       "        ></iframe>\n",
       "        "
      ],
      "text/plain": [
       "<IPython.lib.display.IFrame at 0x246e7321a30>"
      ]
     },
     "metadata": {},
     "output_type": "display_data"
    },
    {
     "data": {
      "text/plain": []
     },
     "execution_count": 1,
     "metadata": {},
     "output_type": "execute_result"
    },
    {
     "name": "stdout",
     "output_type": "stream",
     "text": [
      "Exception occurred while processing request: 'NoneType' object is not iterable\n",
      "Traceback (most recent call last):\n",
      "  File \"C:\\Users\\91937\\anaconda3\\lib\\site-packages\\dtale\\views.py\", line 113, in _handle_exceptions\n",
      "    return func(*args, **kwargs)\n",
      "  File \"C:\\Users\\91937\\anaconda3\\lib\\site-packages\\dtale\\views.py\", line 2390, in get_data\n",
      "    curr_dtypes = [c[\"name\"] for c in global_state.get_dtypes(data_id)]\n",
      "TypeError: 'NoneType' object is not iterable\n"
     ]
    },
    {
     "name": "stderr",
     "output_type": "stream",
     "text": [
      "2021-10-13 14:24:24,717 - ERROR    - Exception occurred while processing request: 'NoneType' object is not iterable\n",
      "Traceback (most recent call last):\n",
      "  File \"C:\\Users\\91937\\anaconda3\\lib\\site-packages\\dtale\\views.py\", line 113, in _handle_exceptions\n",
      "    return func(*args, **kwargs)\n",
      "  File \"C:\\Users\\91937\\anaconda3\\lib\\site-packages\\dtale\\views.py\", line 2390, in get_data\n",
      "    curr_dtypes = [c[\"name\"] for c in global_state.get_dtypes(data_id)]\n",
      "TypeError: 'NoneType' object is not iterable\n",
      "C:\\Users\\91937\\anaconda3\\lib\\site-packages\\dtale\\views.py:1844: FutureWarning:\n",
      "\n",
      "The default value of regex will change from True to False in a future version.\n",
      "\n"
     ]
    }
   ],
   "source": [
    "import pandas as pd\n",
    "import dtale\n",
    "\n",
    "df=pd.read_csv('fifa_cleaned.csv')\n",
    "dtale.show(df)"
   ]
  },
  {
   "cell_type": "code",
   "execution_count": null,
   "id": "2ef71429",
   "metadata": {},
   "outputs": [],
   "source": []
  }
 ],
 "metadata": {
  "kernelspec": {
   "display_name": "Python 3",
   "language": "python",
   "name": "python3"
  },
  "language_info": {
   "codemirror_mode": {
    "name": "ipython",
    "version": 3
   },
   "file_extension": ".py",
   "mimetype": "text/x-python",
   "name": "python",
   "nbconvert_exporter": "python",
   "pygments_lexer": "ipython3",
   "version": "3.8.8"
  }
 },
 "nbformat": 4,
 "nbformat_minor": 5
}
