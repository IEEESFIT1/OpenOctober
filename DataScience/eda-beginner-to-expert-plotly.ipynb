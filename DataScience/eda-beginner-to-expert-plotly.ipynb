{
 "cells": [
  {
   "cell_type": "code",
   "execution_count": 2,
   "metadata": {
    "_kg_hide-input": true,
    "execution": {
     "iopub.execute_input": "2021-05-29T20:11:05.929660Z",
     "iopub.status.busy": "2021-05-29T20:11:05.928927Z",
     "iopub.status.idle": "2021-05-29T20:11:10.069457Z",
     "shell.execute_reply": "2021-05-29T20:11:10.067753Z"
    },
    "papermill": {
     "duration": 4.193062,
     "end_time": "2021-05-29T20:11:10.069644",
     "exception": false,
     "start_time": "2021-05-29T20:11:05.876582",
     "status": "completed"
    },
    "tags": []
   },
   "outputs": [],
   "source": [
    "import pandas as pd\n",
    "import numpy as np\n",
    "\n",
    "import plotly.express as px\n",
    "import plotly.graph_objects as go\n",
    "import plotly.figure_factory as ff\n",
    "from plotly.subplots import make_subplots\n",
    "\n",
    "import matplotlib.pyplot as plt\n",
    "\n",
    "import seaborn as sns\n"
   ]
  },
  {
   "cell_type": "code",
   "execution_count": 7,
   "metadata": {
    "_cell_guid": "79c7e3d0-c299-4dcb-8224-4455121ee9b0",
    "_uuid": "d629ff2d2480ee46fbb7e2d37f6b5fab8052498a",
    "execution": {
     "iopub.execute_input": "2021-05-29T20:11:10.571437Z",
     "iopub.status.busy": "2021-05-29T20:11:10.570702Z",
     "iopub.status.idle": "2021-05-29T20:11:10.692193Z",
     "shell.execute_reply": "2021-05-29T20:11:10.691184Z"
    },
    "papermill": {
     "duration": 0.184585,
     "end_time": "2021-05-29T20:11:10.692318",
     "exception": false,
     "start_time": "2021-05-29T20:11:10.507733",
     "status": "completed"
    },
    "tags": []
   },
   "outputs": [
    {
     "data": {
      "text/html": [
       "<div>\n",
       "<style scoped>\n",
       "    .dataframe tbody tr th:only-of-type {\n",
       "        vertical-align: middle;\n",
       "    }\n",
       "\n",
       "    .dataframe tbody tr th {\n",
       "        vertical-align: top;\n",
       "    }\n",
       "\n",
       "    .dataframe thead th {\n",
       "        text-align: right;\n",
       "    }\n",
       "</style>\n",
       "<table border=\"1\" class=\"dataframe\">\n",
       "  <thead>\n",
       "    <tr style=\"text-align: right;\">\n",
       "      <th></th>\n",
       "      <th>show_id</th>\n",
       "      <th>type</th>\n",
       "      <th>title</th>\n",
       "      <th>director</th>\n",
       "      <th>cast</th>\n",
       "      <th>country</th>\n",
       "      <th>date_added</th>\n",
       "      <th>release_year</th>\n",
       "      <th>rating</th>\n",
       "      <th>duration</th>\n",
       "      <th>listed_in</th>\n",
       "      <th>description</th>\n",
       "    </tr>\n",
       "  </thead>\n",
       "  <tbody>\n",
       "    <tr>\n",
       "      <th>0</th>\n",
       "      <td>s1</td>\n",
       "      <td>Movie</td>\n",
       "      <td>Dick Johnson Is Dead</td>\n",
       "      <td>Kirsten Johnson</td>\n",
       "      <td>NaN</td>\n",
       "      <td>United States</td>\n",
       "      <td>September 25, 2021</td>\n",
       "      <td>2020</td>\n",
       "      <td>PG-13</td>\n",
       "      <td>90 min</td>\n",
       "      <td>Documentaries</td>\n",
       "      <td>As her father nears the end of his life, filmm...</td>\n",
       "    </tr>\n",
       "    <tr>\n",
       "      <th>1</th>\n",
       "      <td>s2</td>\n",
       "      <td>TV Show</td>\n",
       "      <td>Blood &amp; Water</td>\n",
       "      <td>NaN</td>\n",
       "      <td>Ama Qamata, Khosi Ngema, Gail Mabalane, Thaban...</td>\n",
       "      <td>South Africa</td>\n",
       "      <td>September 24, 2021</td>\n",
       "      <td>2021</td>\n",
       "      <td>TV-MA</td>\n",
       "      <td>2 Seasons</td>\n",
       "      <td>International TV Shows, TV Dramas, TV Mysteries</td>\n",
       "      <td>After crossing paths at a party, a Cape Town t...</td>\n",
       "    </tr>\n",
       "    <tr>\n",
       "      <th>2</th>\n",
       "      <td>s3</td>\n",
       "      <td>TV Show</td>\n",
       "      <td>Ganglands</td>\n",
       "      <td>Julien Leclercq</td>\n",
       "      <td>Sami Bouajila, Tracy Gotoas, Samuel Jouy, Nabi...</td>\n",
       "      <td>NaN</td>\n",
       "      <td>September 24, 2021</td>\n",
       "      <td>2021</td>\n",
       "      <td>TV-MA</td>\n",
       "      <td>1 Season</td>\n",
       "      <td>Crime TV Shows, International TV Shows, TV Act...</td>\n",
       "      <td>To protect his family from a powerful drug lor...</td>\n",
       "    </tr>\n",
       "    <tr>\n",
       "      <th>3</th>\n",
       "      <td>s4</td>\n",
       "      <td>TV Show</td>\n",
       "      <td>Jailbirds New Orleans</td>\n",
       "      <td>NaN</td>\n",
       "      <td>NaN</td>\n",
       "      <td>NaN</td>\n",
       "      <td>September 24, 2021</td>\n",
       "      <td>2021</td>\n",
       "      <td>TV-MA</td>\n",
       "      <td>1 Season</td>\n",
       "      <td>Docuseries, Reality TV</td>\n",
       "      <td>Feuds, flirtations and toilet talk go down amo...</td>\n",
       "    </tr>\n",
       "    <tr>\n",
       "      <th>4</th>\n",
       "      <td>s5</td>\n",
       "      <td>TV Show</td>\n",
       "      <td>Kota Factory</td>\n",
       "      <td>NaN</td>\n",
       "      <td>Mayur More, Jitendra Kumar, Ranjan Raj, Alam K...</td>\n",
       "      <td>India</td>\n",
       "      <td>September 24, 2021</td>\n",
       "      <td>2021</td>\n",
       "      <td>TV-MA</td>\n",
       "      <td>2 Seasons</td>\n",
       "      <td>International TV Shows, Romantic TV Shows, TV ...</td>\n",
       "      <td>In a city of coaching centers known to train I...</td>\n",
       "    </tr>\n",
       "  </tbody>\n",
       "</table>\n",
       "</div>"
      ],
      "text/plain": [
       "  show_id     type                  title         director  \\\n",
       "0      s1    Movie   Dick Johnson Is Dead  Kirsten Johnson   \n",
       "1      s2  TV Show          Blood & Water              NaN   \n",
       "2      s3  TV Show              Ganglands  Julien Leclercq   \n",
       "3      s4  TV Show  Jailbirds New Orleans              NaN   \n",
       "4      s5  TV Show           Kota Factory              NaN   \n",
       "\n",
       "                                                cast        country  \\\n",
       "0                                                NaN  United States   \n",
       "1  Ama Qamata, Khosi Ngema, Gail Mabalane, Thaban...   South Africa   \n",
       "2  Sami Bouajila, Tracy Gotoas, Samuel Jouy, Nabi...            NaN   \n",
       "3                                                NaN            NaN   \n",
       "4  Mayur More, Jitendra Kumar, Ranjan Raj, Alam K...          India   \n",
       "\n",
       "           date_added  release_year rating   duration  \\\n",
       "0  September 25, 2021          2020  PG-13     90 min   \n",
       "1  September 24, 2021          2021  TV-MA  2 Seasons   \n",
       "2  September 24, 2021          2021  TV-MA   1 Season   \n",
       "3  September 24, 2021          2021  TV-MA   1 Season   \n",
       "4  September 24, 2021          2021  TV-MA  2 Seasons   \n",
       "\n",
       "                                           listed_in  \\\n",
       "0                                      Documentaries   \n",
       "1    International TV Shows, TV Dramas, TV Mysteries   \n",
       "2  Crime TV Shows, International TV Shows, TV Act...   \n",
       "3                             Docuseries, Reality TV   \n",
       "4  International TV Shows, Romantic TV Shows, TV ...   \n",
       "\n",
       "                                         description  \n",
       "0  As her father nears the end of his life, filmm...  \n",
       "1  After crossing paths at a party, a Cape Town t...  \n",
       "2  To protect his family from a powerful drug lor...  \n",
       "3  Feuds, flirtations and toilet talk go down amo...  \n",
       "4  In a city of coaching centers known to train I...  "
      ]
     },
     "execution_count": 7,
     "metadata": {},
     "output_type": "execute_result"
    }
   ],
   "source": [
    "df = pd.read_csv(\"netflix_titles.csv\")\n",
    "df.head()"
   ]
  },
  {
   "cell_type": "code",
   "execution_count": 8,
   "metadata": {
    "execution": {
     "iopub.execute_input": "2021-05-29T20:11:10.803298Z",
     "iopub.status.busy": "2021-05-29T20:11:10.801717Z",
     "iopub.status.idle": "2021-05-29T20:11:10.817251Z",
     "shell.execute_reply": "2021-05-29T20:11:10.816620Z"
    },
    "papermill": {
     "duration": 0.077246,
     "end_time": "2021-05-29T20:11:10.817368",
     "exception": false,
     "start_time": "2021-05-29T20:11:10.740122",
     "status": "completed"
    },
    "tags": []
   },
   "outputs": [
    {
     "name": "stdout",
     "output_type": "stream",
     "text": [
      "<class 'pandas.core.frame.DataFrame'>\n",
      "RangeIndex: 8807 entries, 0 to 8806\n",
      "Data columns (total 12 columns):\n",
      " #   Column        Non-Null Count  Dtype \n",
      "---  ------        --------------  ----- \n",
      " 0   show_id       8807 non-null   object\n",
      " 1   type          8807 non-null   object\n",
      " 2   title         8807 non-null   object\n",
      " 3   director      6173 non-null   object\n",
      " 4   cast          7982 non-null   object\n",
      " 5   country       7976 non-null   object\n",
      " 6   date_added    8797 non-null   object\n",
      " 7   release_year  8807 non-null   int64 \n",
      " 8   rating        8803 non-null   object\n",
      " 9   duration      8804 non-null   object\n",
      " 10  listed_in     8807 non-null   object\n",
      " 11  description   8807 non-null   object\n",
      "dtypes: int64(1), object(11)\n",
      "memory usage: 825.8+ KB\n"
     ]
    }
   ],
   "source": [
    "df.info()"
   ]
  },
  {
   "cell_type": "markdown",
   "metadata": {
    "papermill": {
     "duration": 0.094351,
     "end_time": "2021-05-29T20:11:23.978631",
     "exception": false,
     "start_time": "2021-05-29T20:11:23.884280",
     "status": "completed"
    },
    "tags": []
   },
   "source": [
    "# Data Cleaning"
   ]
  },
  {
   "cell_type": "markdown",
   "metadata": {
    "papermill": {
     "duration": 0.097258,
     "end_time": "2021-05-29T20:11:24.172165",
     "exception": false,
     "start_time": "2021-05-29T20:11:24.074907",
     "status": "completed"
    },
    "tags": []
   },
   "source": [
    "Lets check how many nulls are there in the data"
   ]
  },
  {
   "cell_type": "code",
   "execution_count": 9,
   "metadata": {
    "execution": {
     "iopub.execute_input": "2021-05-29T20:11:24.368931Z",
     "iopub.status.busy": "2021-05-29T20:11:24.368289Z",
     "iopub.status.idle": "2021-05-29T20:11:24.410450Z",
     "shell.execute_reply": "2021-05-29T20:11:24.409794Z"
    },
    "papermill": {
     "duration": 0.142275,
     "end_time": "2021-05-29T20:11:24.410562",
     "exception": false,
     "start_time": "2021-05-29T20:11:24.268287",
     "status": "completed"
    },
    "tags": []
   },
   "outputs": [
    {
     "data": {
      "text/plain": [
       "show_id         8807\n",
       "type               2\n",
       "title           8807\n",
       "director        4528\n",
       "cast            7692\n",
       "country          748\n",
       "date_added      1767\n",
       "release_year      74\n",
       "rating            17\n",
       "duration         220\n",
       "listed_in        514\n",
       "description     8775\n",
       "dtype: int64"
      ]
     },
     "execution_count": 9,
     "metadata": {},
     "output_type": "execute_result"
    }
   ],
   "source": [
    "df.nunique()"
   ]
  },
  {
   "cell_type": "code",
   "execution_count": 10,
   "metadata": {
    "execution": {
     "iopub.execute_input": "2021-05-29T20:11:24.615513Z",
     "iopub.status.busy": "2021-05-29T20:11:24.614809Z",
     "iopub.status.idle": "2021-05-29T20:11:24.622405Z",
     "shell.execute_reply": "2021-05-29T20:11:24.621870Z"
    },
    "papermill": {
     "duration": 0.113534,
     "end_time": "2021-05-29T20:11:24.622522",
     "exception": false,
     "start_time": "2021-05-29T20:11:24.508988",
     "status": "completed"
    },
    "tags": []
   },
   "outputs": [
    {
     "data": {
      "text/plain": [
       "show_id            0\n",
       "type               0\n",
       "title              0\n",
       "director        2634\n",
       "cast             825\n",
       "country          831\n",
       "date_added        10\n",
       "release_year       0\n",
       "rating             4\n",
       "duration           3\n",
       "listed_in          0\n",
       "description        0\n",
       "dtype: int64"
      ]
     },
     "execution_count": 10,
     "metadata": {},
     "output_type": "execute_result"
    }
   ],
   "source": [
    "df.isna().sum()"
   ]
  },
  {
   "cell_type": "markdown",
   "metadata": {
    "papermill": {
     "duration": 0.093794,
     "end_time": "2021-05-29T20:11:24.815510",
     "exception": false,
     "start_time": "2021-05-29T20:11:24.721716",
     "status": "completed"
    },
    "tags": []
   },
   "source": [
    "The missing values are in:\n",
    "* `director`: i think its not needed for the analysis (no much information)\n",
    "* `cast`: this var has too many diferent values too so there is no muich information out there \n",
    "* `country`: this is a importante variable so wi will think how to fix it (maybe mode)\n",
    "* `date_added`: there are just a few cases, so lets scrap them\n",
    "* `rating`: there are just a few cases, so lets scrap them"
   ]
  },
  {
   "cell_type": "markdown",
   "metadata": {
    "papermill": {
     "duration": 0.095861,
     "end_time": "2021-05-29T20:11:25.007246",
     "exception": false,
     "start_time": "2021-05-29T20:11:24.911385",
     "status": "completed"
    },
    "tags": []
   },
   "source": [
    "### Fix rating missings"
   ]
  },
  {
   "cell_type": "code",
   "execution_count": 11,
   "metadata": {
    "execution": {
     "iopub.execute_input": "2021-05-29T20:11:25.207390Z",
     "iopub.status.busy": "2021-05-29T20:11:25.206309Z",
     "iopub.status.idle": "2021-05-29T20:11:25.210631Z",
     "shell.execute_reply": "2021-05-29T20:11:25.209965Z"
    },
    "papermill": {
     "duration": 0.107732,
     "end_time": "2021-05-29T20:11:25.210742",
     "exception": false,
     "start_time": "2021-05-29T20:11:25.103010",
     "status": "completed"
    },
    "tags": []
   },
   "outputs": [
    {
     "data": {
      "text/plain": [
       "array(['PG-13', 'TV-MA', 'PG', 'TV-14', 'TV-PG', 'TV-Y', 'TV-Y7', 'R',\n",
       "       'TV-G', 'G', 'NC-17', '74 min', '84 min', '66 min', 'NR', nan,\n",
       "       'TV-Y7-FV', 'UR'], dtype=object)"
      ]
     },
     "execution_count": 11,
     "metadata": {},
     "output_type": "execute_result"
    }
   ],
   "source": [
    "df['rating'].unique()"
   ]
  },
  {
   "cell_type": "code",
   "execution_count": 12,
   "metadata": {
    "execution": {
     "iopub.execute_input": "2021-05-29T20:11:25.407810Z",
     "iopub.status.busy": "2021-05-29T20:11:25.406769Z",
     "iopub.status.idle": "2021-05-29T20:11:25.427747Z",
     "shell.execute_reply": "2021-05-29T20:11:25.428336Z"
    },
    "papermill": {
     "duration": 0.121077,
     "end_time": "2021-05-29T20:11:25.428477",
     "exception": false,
     "start_time": "2021-05-29T20:11:25.307400",
     "status": "completed"
    },
    "tags": []
   },
   "outputs": [
    {
     "data": {
      "text/html": [
       "<div>\n",
       "<style scoped>\n",
       "    .dataframe tbody tr th:only-of-type {\n",
       "        vertical-align: middle;\n",
       "    }\n",
       "\n",
       "    .dataframe tbody tr th {\n",
       "        vertical-align: top;\n",
       "    }\n",
       "\n",
       "    .dataframe thead th {\n",
       "        text-align: right;\n",
       "    }\n",
       "</style>\n",
       "<table border=\"1\" class=\"dataframe\">\n",
       "  <thead>\n",
       "    <tr style=\"text-align: right;\">\n",
       "      <th></th>\n",
       "      <th>show_id</th>\n",
       "      <th>type</th>\n",
       "      <th>title</th>\n",
       "      <th>director</th>\n",
       "      <th>cast</th>\n",
       "      <th>country</th>\n",
       "      <th>date_added</th>\n",
       "      <th>release_year</th>\n",
       "      <th>rating</th>\n",
       "      <th>duration</th>\n",
       "      <th>listed_in</th>\n",
       "      <th>description</th>\n",
       "    </tr>\n",
       "  </thead>\n",
       "  <tbody>\n",
       "    <tr>\n",
       "      <th>5989</th>\n",
       "      <td>s5990</td>\n",
       "      <td>Movie</td>\n",
       "      <td>13TH: A Conversation with Oprah Winfrey &amp; Ava ...</td>\n",
       "      <td>NaN</td>\n",
       "      <td>Oprah Winfrey, Ava DuVernay</td>\n",
       "      <td>NaN</td>\n",
       "      <td>January 26, 2017</td>\n",
       "      <td>2017</td>\n",
       "      <td>NaN</td>\n",
       "      <td>37 min</td>\n",
       "      <td>Movies</td>\n",
       "      <td>Oprah Winfrey sits down with director Ava DuVe...</td>\n",
       "    </tr>\n",
       "    <tr>\n",
       "      <th>6827</th>\n",
       "      <td>s6828</td>\n",
       "      <td>TV Show</td>\n",
       "      <td>Gargantia on the Verdurous Planet</td>\n",
       "      <td>NaN</td>\n",
       "      <td>Kaito Ishikawa, Hisako Kanemoto, Ai Kayano, Ka...</td>\n",
       "      <td>Japan</td>\n",
       "      <td>December 1, 2016</td>\n",
       "      <td>2013</td>\n",
       "      <td>NaN</td>\n",
       "      <td>1 Season</td>\n",
       "      <td>Anime Series, International TV Shows</td>\n",
       "      <td>After falling through a wormhole, a space-dwel...</td>\n",
       "    </tr>\n",
       "    <tr>\n",
       "      <th>7312</th>\n",
       "      <td>s7313</td>\n",
       "      <td>TV Show</td>\n",
       "      <td>Little Lunch</td>\n",
       "      <td>NaN</td>\n",
       "      <td>Flynn Curry, Olivia Deeble, Madison Lu, Oisín ...</td>\n",
       "      <td>Australia</td>\n",
       "      <td>February 1, 2018</td>\n",
       "      <td>2015</td>\n",
       "      <td>NaN</td>\n",
       "      <td>1 Season</td>\n",
       "      <td>Kids' TV, TV Comedies</td>\n",
       "      <td>Adopting a child's perspective, this show take...</td>\n",
       "    </tr>\n",
       "    <tr>\n",
       "      <th>7537</th>\n",
       "      <td>s7538</td>\n",
       "      <td>Movie</td>\n",
       "      <td>My Honor Was Loyalty</td>\n",
       "      <td>Alessandro Pepe</td>\n",
       "      <td>Leone Frisa, Paolo Vaccarino, Francesco Miglio...</td>\n",
       "      <td>Italy</td>\n",
       "      <td>March 1, 2017</td>\n",
       "      <td>2015</td>\n",
       "      <td>NaN</td>\n",
       "      <td>115 min</td>\n",
       "      <td>Dramas</td>\n",
       "      <td>Amid the chaos and horror of World War II, a c...</td>\n",
       "    </tr>\n",
       "  </tbody>\n",
       "</table>\n",
       "</div>"
      ],
      "text/plain": [
       "     show_id     type                                              title  \\\n",
       "5989   s5990    Movie  13TH: A Conversation with Oprah Winfrey & Ava ...   \n",
       "6827   s6828  TV Show                  Gargantia on the Verdurous Planet   \n",
       "7312   s7313  TV Show                                       Little Lunch   \n",
       "7537   s7538    Movie                               My Honor Was Loyalty   \n",
       "\n",
       "             director                                               cast  \\\n",
       "5989              NaN                        Oprah Winfrey, Ava DuVernay   \n",
       "6827              NaN  Kaito Ishikawa, Hisako Kanemoto, Ai Kayano, Ka...   \n",
       "7312              NaN  Flynn Curry, Olivia Deeble, Madison Lu, Oisín ...   \n",
       "7537  Alessandro Pepe  Leone Frisa, Paolo Vaccarino, Francesco Miglio...   \n",
       "\n",
       "        country        date_added  release_year rating  duration  \\\n",
       "5989        NaN  January 26, 2017          2017    NaN    37 min   \n",
       "6827      Japan  December 1, 2016          2013    NaN  1 Season   \n",
       "7312  Australia  February 1, 2018          2015    NaN  1 Season   \n",
       "7537      Italy     March 1, 2017          2015    NaN   115 min   \n",
       "\n",
       "                                 listed_in  \\\n",
       "5989                                Movies   \n",
       "6827  Anime Series, International TV Shows   \n",
       "7312                 Kids' TV, TV Comedies   \n",
       "7537                                Dramas   \n",
       "\n",
       "                                            description  \n",
       "5989  Oprah Winfrey sits down with director Ava DuVe...  \n",
       "6827  After falling through a wormhole, a space-dwel...  \n",
       "7312  Adopting a child's perspective, this show take...  \n",
       "7537  Amid the chaos and horror of World War II, a c...  "
      ]
     },
     "execution_count": 12,
     "metadata": {},
     "output_type": "execute_result"
    }
   ],
   "source": [
    "df[df['rating'].isna()]"
   ]
  },
  {
   "cell_type": "markdown",
   "metadata": {
    "papermill": {
     "duration": 0.095805,
     "end_time": "2021-05-29T20:11:25.624791",
     "exception": false,
     "start_time": "2021-05-29T20:11:25.528986",
     "status": "completed"
    },
    "tags": []
   },
   "source": [
    "Based on the information from [Amazon](https://www.amazon.com/gp/help/customer/display.html?nodeId=G2C2CPZWGZWHZ42J) ranting information and Netflix shows, we can find the following replacements"
   ]
  },
  {
   "cell_type": "code",
   "execution_count": 13,
   "metadata": {
    "execution": {
     "iopub.execute_input": "2021-05-29T20:11:25.835865Z",
     "iopub.status.busy": "2021-05-29T20:11:25.834671Z",
     "iopub.status.idle": "2021-05-29T20:11:25.838600Z",
     "shell.execute_reply": "2021-05-29T20:11:25.839105Z"
    },
    "papermill": {
     "duration": 0.115632,
     "end_time": "2021-05-29T20:11:25.839246",
     "exception": false,
     "start_time": "2021-05-29T20:11:25.723614",
     "status": "completed"
    },
    "tags": []
   },
   "outputs": [
    {
     "data": {
      "text/plain": [
       "4"
      ]
     },
     "execution_count": 13,
     "metadata": {},
     "output_type": "execute_result"
    }
   ],
   "source": [
    "rating_replacements = {\n",
    "    211: 'TV-14',\n",
    "    2411: 'TV-14',\n",
    "    3288: 'PG-13',\n",
    "    4056: 'TV-G',\n",
    "    4402: 'TV-G',\n",
    "    4403: 'TV-G',\n",
    "    4706: 'TV-14',\n",
    "    5015: 'TV-14',\n",
    "    5234: 'TV-14',\n",
    "    6231: 'TV-Y'\n",
    "}\n",
    "\n",
    "for id, rate in rating_replacements.items():\n",
    "    df.iloc[id, 8] = rate\n",
    "    \n",
    "df['rating'].isna().sum()"
   ]
  },
  {
   "cell_type": "markdown",
   "metadata": {
    "papermill": {
     "duration": 0.09661,
     "end_time": "2021-05-29T20:11:26.037281",
     "exception": false,
     "start_time": "2021-05-29T20:11:25.940671",
     "status": "completed"
    },
    "tags": []
   },
   "source": [
    "### Drop director and cast columns"
   ]
  },
  {
   "cell_type": "code",
   "execution_count": 14,
   "metadata": {
    "execution": {
     "iopub.execute_input": "2021-05-29T20:11:26.244308Z",
     "iopub.status.busy": "2021-05-29T20:11:26.243635Z",
     "iopub.status.idle": "2021-05-29T20:11:26.247847Z",
     "shell.execute_reply": "2021-05-29T20:11:26.247288Z"
    },
    "papermill": {
     "duration": 0.111165,
     "end_time": "2021-05-29T20:11:26.247968",
     "exception": false,
     "start_time": "2021-05-29T20:11:26.136803",
     "status": "completed"
    },
    "tags": []
   },
   "outputs": [
    {
     "data": {
      "text/plain": [
       "Index(['show_id', 'type', 'title', 'country', 'date_added', 'release_year',\n",
       "       'rating', 'duration', 'listed_in', 'description'],\n",
       "      dtype='object')"
      ]
     },
     "execution_count": 14,
     "metadata": {},
     "output_type": "execute_result"
    }
   ],
   "source": [
    "df = df.drop(['director', 'cast'], axis=1)\n",
    "df.columns"
   ]
  },
  {
   "cell_type": "markdown",
   "metadata": {
    "papermill": {
     "duration": 0.099162,
     "end_time": "2021-05-29T20:11:26.447307",
     "exception": false,
     "start_time": "2021-05-29T20:11:26.348145",
     "status": "completed"
    },
    "tags": []
   },
   "source": [
    "### Fix date_added missings "
   ]
  },
  {
   "cell_type": "code",
   "execution_count": null,
   "metadata": {
    "execution": {
     "iopub.execute_input": "2021-05-29T20:11:26.651647Z",
     "iopub.status.busy": "2021-05-29T20:11:26.650955Z",
     "iopub.status.idle": "2021-05-29T20:11:26.672258Z",
     "shell.execute_reply": "2021-05-29T20:11:26.671561Z"
    },
    "papermill": {
     "duration": 0.124884,
     "end_time": "2021-05-29T20:11:26.672372",
     "exception": false,
     "start_time": "2021-05-29T20:11:26.547488",
     "status": "completed"
    },
    "tags": []
   },
   "outputs": [],
   "source": [
    "df[df['date_added'].isna()]"
   ]
  },
  {
   "cell_type": "markdown",
   "metadata": {
    "papermill": {
     "duration": 0.097435,
     "end_time": "2021-05-29T20:11:26.873410",
     "exception": false,
     "start_time": "2021-05-29T20:11:26.775975",
     "status": "completed"
    },
    "tags": []
   },
   "source": [
    "I have search for them in the internet and is dificult to find the `date_added`to Netlix, so i will drop them, as they are only 11 rows"
   ]
  },
  {
   "cell_type": "code",
   "execution_count": null,
   "metadata": {
    "execution": {
     "iopub.execute_input": "2021-05-29T20:11:27.085113Z",
     "iopub.status.busy": "2021-05-29T20:11:27.083172Z",
     "iopub.status.idle": "2021-05-29T20:11:27.088196Z",
     "shell.execute_reply": "2021-05-29T20:11:27.087646Z"
    },
    "papermill": {
     "duration": 0.114221,
     "end_time": "2021-05-29T20:11:27.088307",
     "exception": false,
     "start_time": "2021-05-29T20:11:26.974086",
     "status": "completed"
    },
    "tags": []
   },
   "outputs": [],
   "source": [
    "df = df[df['date_added'].notna()]"
   ]
  },
  {
   "cell_type": "markdown",
   "metadata": {
    "papermill": {
     "duration": 0.099994,
     "end_time": "2021-05-29T20:11:27.289144",
     "exception": false,
     "start_time": "2021-05-29T20:11:27.189150",
     "status": "completed"
    },
    "tags": []
   },
   "source": [
    "### Fix country missing values"
   ]
  },
  {
   "cell_type": "code",
   "execution_count": null,
   "metadata": {
    "execution": {
     "iopub.execute_input": "2021-05-29T20:11:27.493339Z",
     "iopub.status.busy": "2021-05-29T20:11:27.492607Z",
     "iopub.status.idle": "2021-05-29T20:11:27.500295Z",
     "shell.execute_reply": "2021-05-29T20:11:27.500805Z"
    },
    "papermill": {
     "duration": 0.111381,
     "end_time": "2021-05-29T20:11:27.500962",
     "exception": false,
     "start_time": "2021-05-29T20:11:27.389581",
     "status": "completed"
    },
    "tags": []
   },
   "outputs": [],
   "source": [
    "df['country'] = df['country'].fillna(df['country'].mode()[0])"
   ]
  },
  {
   "cell_type": "markdown",
   "metadata": {
    "papermill": {
     "duration": 0.097744,
     "end_time": "2021-05-29T20:11:27.702193",
     "exception": false,
     "start_time": "2021-05-29T20:11:27.604449",
     "status": "completed"
    },
    "tags": []
   },
   "source": [
    "### Check if data is cleaned"
   ]
  },
  {
   "cell_type": "code",
   "execution_count": null,
   "metadata": {
    "execution": {
     "iopub.execute_input": "2021-05-29T20:11:27.906828Z",
     "iopub.status.busy": "2021-05-29T20:11:27.906183Z",
     "iopub.status.idle": "2021-05-29T20:11:27.920586Z",
     "shell.execute_reply": "2021-05-29T20:11:27.921317Z"
    },
    "papermill": {
     "duration": 0.118792,
     "end_time": "2021-05-29T20:11:27.921525",
     "exception": false,
     "start_time": "2021-05-29T20:11:27.802733",
     "status": "completed"
    },
    "tags": []
   },
   "outputs": [],
   "source": [
    "df.isna().sum()"
   ]
  },
  {
   "cell_type": "markdown",
   "metadata": {
    "papermill": {
     "duration": 0.226157,
     "end_time": "2021-05-29T20:11:28.254327",
     "exception": false,
     "start_time": "2021-05-29T20:11:28.028170",
     "status": "completed"
    },
    "tags": []
   },
   "source": [
    "## Generate new columns based on variables"
   ]
  },
  {
   "cell_type": "code",
   "execution_count": null,
   "metadata": {
    "execution": {
     "iopub.execute_input": "2021-05-29T20:11:28.461289Z",
     "iopub.status.busy": "2021-05-29T20:11:28.460533Z",
     "iopub.status.idle": "2021-05-29T20:11:28.477032Z",
     "shell.execute_reply": "2021-05-29T20:11:28.476461Z"
    },
    "papermill": {
     "duration": 0.120577,
     "end_time": "2021-05-29T20:11:28.477160",
     "exception": false,
     "start_time": "2021-05-29T20:11:28.356583",
     "status": "completed"
    },
    "tags": []
   },
   "outputs": [],
   "source": [
    "df.head()"
   ]
  },
  {
   "cell_type": "markdown",
   "metadata": {
    "papermill": {
     "duration": 0.099162,
     "end_time": "2021-05-29T20:11:28.680274",
     "exception": false,
     "start_time": "2021-05-29T20:11:28.581112",
     "status": "completed"
    },
    "tags": []
   },
   "source": [
    "### Year and month by adding date\n",
    "\n",
    "We are going to take the year and the month from `date_added` so we can compare wich are the most valueable months and the difference between Show realse and Netflix adding dates"
   ]
  },
  {
   "cell_type": "code",
   "execution_count": null,
   "metadata": {
    "execution": {
     "iopub.execute_input": "2021-05-29T20:11:28.896058Z",
     "iopub.status.busy": "2021-05-29T20:11:28.895398Z",
     "iopub.status.idle": "2021-05-29T20:11:28.901810Z",
     "shell.execute_reply": "2021-05-29T20:11:28.901247Z"
    },
    "papermill": {
     "duration": 0.120561,
     "end_time": "2021-05-29T20:11:28.901933",
     "exception": false,
     "start_time": "2021-05-29T20:11:28.781372",
     "status": "completed"
    },
    "tags": []
   },
   "outputs": [],
   "source": [
    "df['year_added'] = df['date_added'].apply(lambda x: x.split(\" \")[-1])\n",
    "df['year_added'].head()"
   ]
  },
  {
   "cell_type": "code",
   "execution_count": null,
   "metadata": {
    "execution": {
     "iopub.execute_input": "2021-05-29T20:11:29.110308Z",
     "iopub.status.busy": "2021-05-29T20:11:29.109622Z",
     "iopub.status.idle": "2021-05-29T20:11:29.123860Z",
     "shell.execute_reply": "2021-05-29T20:11:29.123332Z"
    },
    "papermill": {
     "duration": 0.116952,
     "end_time": "2021-05-29T20:11:29.123998",
     "exception": false,
     "start_time": "2021-05-29T20:11:29.007046",
     "status": "completed"
    },
    "tags": []
   },
   "outputs": [],
   "source": [
    "df['month_added'] = df['date_added'].apply(lambda x: x.split(\" \")[0])\n",
    "df['month_added'].head()"
   ]
  },
  {
   "cell_type": "markdown",
   "metadata": {
    "papermill": {
     "duration": 0.103144,
     "end_time": "2021-05-29T20:11:29.330305",
     "exception": false,
     "start_time": "2021-05-29T20:11:29.227161",
     "status": "completed"
    },
    "tags": []
   },
   "source": [
    "### Shows targets based on rating\n",
    "\n",
    "This could be interesting to show wich is target mostly focused by productions"
   ]
  },
  {
   "cell_type": "code",
   "execution_count": null,
   "metadata": {
    "execution": {
     "iopub.execute_input": "2021-05-29T20:11:29.538144Z",
     "iopub.status.busy": "2021-05-29T20:11:29.537430Z",
     "iopub.status.idle": "2021-05-29T20:11:29.542843Z",
     "shell.execute_reply": "2021-05-29T20:11:29.543353Z"
    },
    "papermill": {
     "duration": 0.11097,
     "end_time": "2021-05-29T20:11:29.543504",
     "exception": false,
     "start_time": "2021-05-29T20:11:29.432534",
     "status": "completed"
    },
    "tags": []
   },
   "outputs": [],
   "source": [
    "ratings_ages = {\n",
    "    'TV-PG': 'Older Kids',\n",
    "    'TV-MA': 'Adults',\n",
    "    'TV-Y7-FV': 'Older Kids',\n",
    "    'TV-Y7': 'Older Kids',\n",
    "    'TV-14': 'Teens',\n",
    "    'R': 'Adults',\n",
    "    'TV-Y': 'Kids',\n",
    "    'NR': 'Adults',\n",
    "    'PG-13': 'Teens',\n",
    "    'TV-G': 'Kids',\n",
    "    'PG': 'Older Kids',\n",
    "    'G': 'Kids',\n",
    "    'UR': 'Adults',\n",
    "    'NC-17': 'Adults'\n",
    "}"
   ]
  },
  {
   "cell_type": "code",
   "execution_count": null,
   "metadata": {
    "execution": {
     "iopub.execute_input": "2021-05-29T20:11:29.760014Z",
     "iopub.status.busy": "2021-05-29T20:11:29.759334Z",
     "iopub.status.idle": "2021-05-29T20:11:29.767044Z",
     "shell.execute_reply": "2021-05-29T20:11:29.767674Z"
    },
    "papermill": {
     "duration": 0.120163,
     "end_time": "2021-05-29T20:11:29.767818",
     "exception": false,
     "start_time": "2021-05-29T20:11:29.647655",
     "status": "completed"
    },
    "tags": []
   },
   "outputs": [],
   "source": [
    "df['target_ages'] = df['rating'].replace(ratings_ages)\n",
    "df['target_ages'].unique()"
   ]
  },
  {
   "cell_type": "markdown",
   "metadata": {
    "papermill": {
     "duration": 0.102657,
     "end_time": "2021-05-29T20:11:29.973524",
     "exception": false,
     "start_time": "2021-05-29T20:11:29.870867",
     "status": "completed"
    },
    "tags": []
   },
   "source": [
    "### Country fixup\n",
    "\n",
    "There are some entry where `country` has multiple values. so i think i will add a new column with just the first one so we can check witch regions have more productions"
   ]
  },
  {
   "cell_type": "code",
   "execution_count": null,
   "metadata": {
    "execution": {
     "iopub.execute_input": "2021-05-29T20:11:30.183748Z",
     "iopub.status.busy": "2021-05-29T20:11:30.183003Z",
     "iopub.status.idle": "2021-05-29T20:11:30.196005Z",
     "shell.execute_reply": "2021-05-29T20:11:30.195471Z"
    },
    "papermill": {
     "duration": 0.119978,
     "end_time": "2021-05-29T20:11:30.196143",
     "exception": false,
     "start_time": "2021-05-29T20:11:30.076165",
     "status": "completed"
    },
    "tags": []
   },
   "outputs": [],
   "source": [
    "# Lets retrieve just the first country\n",
    "df['principal_country'] = df['country'].apply(lambda x: x.split(\",\")[0])\n",
    "df['principal_country'].head()"
   ]
  },
  {
   "cell_type": "markdown",
   "metadata": {
    "papermill": {
     "duration": 0.100408,
     "end_time": "2021-05-29T20:11:30.401541",
     "exception": false,
     "start_time": "2021-05-29T20:11:30.301133",
     "status": "completed"
    },
    "tags": []
   },
   "source": [
    "## Fix data types"
   ]
  },
  {
   "cell_type": "code",
   "execution_count": null,
   "metadata": {
    "execution": {
     "iopub.execute_input": "2021-05-29T20:11:30.613788Z",
     "iopub.status.busy": "2021-05-29T20:11:30.613077Z",
     "iopub.status.idle": "2021-05-29T20:11:30.615985Z",
     "shell.execute_reply": "2021-05-29T20:11:30.616594Z"
    },
    "papermill": {
     "duration": 0.112725,
     "end_time": "2021-05-29T20:11:30.616731",
     "exception": false,
     "start_time": "2021-05-29T20:11:30.504006",
     "status": "completed"
    },
    "tags": []
   },
   "outputs": [],
   "source": [
    "df.dtypes"
   ]
  },
  {
   "cell_type": "code",
   "execution_count": null,
   "metadata": {
    "execution": {
     "iopub.execute_input": "2021-05-29T20:11:30.826505Z",
     "iopub.status.busy": "2021-05-29T20:11:30.825790Z",
     "iopub.status.idle": "2021-05-29T20:11:30.843998Z",
     "shell.execute_reply": "2021-05-29T20:11:30.844657Z"
    },
    "papermill": {
     "duration": 0.122776,
     "end_time": "2021-05-29T20:11:30.844798",
     "exception": false,
     "start_time": "2021-05-29T20:11:30.722022",
     "status": "completed"
    },
    "tags": []
   },
   "outputs": [],
   "source": [
    "# type should be a category\n",
    "df['type'] = pd.Categorical(df['type'])\n",
    "# target_ages is another category (4 classes)\n",
    "df['target_ages'] = pd.Categorical(df['target_ages'], categories=['Kids', 'Older Kids', 'Teens', 'Adults'])\n",
    "\n",
    "# Year added should be integer so we can compare with `released_year`\n",
    "df['year_added'] = pd.to_numeric(df['year_added'])"
   ]
  },
  {
   "cell_type": "code",
   "execution_count": null,
   "metadata": {
    "execution": {
     "iopub.execute_input": "2021-05-29T20:11:31.057618Z",
     "iopub.status.busy": "2021-05-29T20:11:31.056926Z",
     "iopub.status.idle": "2021-05-29T20:11:31.063509Z",
     "shell.execute_reply": "2021-05-29T20:11:31.064034Z"
    },
    "papermill": {
     "duration": 0.115204,
     "end_time": "2021-05-29T20:11:31.064196",
     "exception": false,
     "start_time": "2021-05-29T20:11:30.948992",
     "status": "completed"
    },
    "tags": []
   },
   "outputs": [],
   "source": [
    "df.dtypes"
   ]
  },
  {
   "cell_type": "markdown",
   "metadata": {
    "papermill": {
     "duration": 0.103609,
     "end_time": "2021-05-29T20:11:31.273224",
     "exception": false,
     "start_time": "2021-05-29T20:11:31.169615",
     "status": "completed"
    },
    "tags": []
   },
   "source": [
    "# Data Visualization"
   ]
  },
  {
   "cell_type": "code",
   "execution_count": null,
   "metadata": {
    "execution": {
     "iopub.execute_input": "2021-05-29T20:11:31.485083Z",
     "iopub.status.busy": "2021-05-29T20:11:31.484473Z",
     "iopub.status.idle": "2021-05-29T20:11:31.505502Z",
     "shell.execute_reply": "2021-05-29T20:11:31.504912Z"
    },
    "papermill": {
     "duration": 0.127792,
     "end_time": "2021-05-29T20:11:31.505613",
     "exception": false,
     "start_time": "2021-05-29T20:11:31.377821",
     "status": "completed"
    },
    "tags": []
   },
   "outputs": [],
   "source": [
    "df.head()"
   ]
  },
  {
   "cell_type": "code",
   "execution_count": null,
   "metadata": {
    "execution": {
     "iopub.execute_input": "2021-05-29T20:11:31.736199Z",
     "iopub.status.busy": "2021-05-29T20:11:31.735465Z",
     "iopub.status.idle": "2021-05-29T20:11:31.738363Z",
     "shell.execute_reply": "2021-05-29T20:11:31.738827Z"
    },
    "papermill": {
     "duration": 0.126475,
     "end_time": "2021-05-29T20:11:31.738972",
     "exception": false,
     "start_time": "2021-05-29T20:11:31.612497",
     "status": "completed"
    },
    "tags": []
   },
   "outputs": [],
   "source": [
    "df['genre'] = df['listed_in'].apply(lambda x :  x.replace(' ,',',').replace(', ',',').split(',')) \n",
    "df['genre'].head()"
   ]
  },
  {
   "cell_type": "code",
   "execution_count": null,
   "metadata": {
    "execution": {
     "iopub.execute_input": "2021-05-29T20:11:31.954357Z",
     "iopub.status.busy": "2021-05-29T20:11:31.953692Z",
     "iopub.status.idle": "2021-05-29T20:11:31.981795Z",
     "shell.execute_reply": "2021-05-29T20:11:31.982355Z"
    },
    "papermill": {
     "duration": 0.135021,
     "end_time": "2021-05-29T20:11:31.982507",
     "exception": false,
     "start_time": "2021-05-29T20:11:31.847486",
     "status": "completed"
    },
    "tags": []
   },
   "outputs": [],
   "source": [
    "movie_df = df[df['type'] == 'Movie']\n",
    "show_df = df[df['type'] == 'TV Show']\n",
    "\n",
    "show_df.head()"
   ]
  },
  {
   "cell_type": "markdown",
   "metadata": {
    "papermill": {
     "duration": 0.110156,
     "end_time": "2021-05-29T20:11:32.221515",
     "exception": false,
     "start_time": "2021-05-29T20:11:32.111359",
     "status": "completed"
    },
    "tags": []
   },
   "source": [
    "As we can see, there are much more TV shows than Movies"
   ]
  },
  {
   "cell_type": "code",
   "execution_count": null,
   "metadata": {
    "execution": {
     "iopub.execute_input": "2021-05-29T20:11:32.439928Z",
     "iopub.status.busy": "2021-05-29T20:11:32.439255Z",
     "iopub.status.idle": "2021-05-29T20:11:33.403549Z",
     "shell.execute_reply": "2021-05-29T20:11:33.402992Z"
    },
    "papermill": {
     "duration": 1.076176,
     "end_time": "2021-05-29T20:11:33.403680",
     "exception": false,
     "start_time": "2021-05-29T20:11:32.327504",
     "status": "completed"
    },
    "tags": []
   },
   "outputs": [],
   "source": [
    "fig = px.pie(df['type'].value_counts().reset_index(), values='type', names='index')\n",
    "fig.update_traces(textposition='inside', textinfo='percent+label')\n",
    "fig.show()"
   ]
  },
  {
   "cell_type": "code",
   "execution_count": null,
   "metadata": {
    "execution": {
     "iopub.execute_input": "2021-05-29T20:11:33.633283Z",
     "iopub.status.busy": "2021-05-29T20:11:33.632569Z",
     "iopub.status.idle": "2021-05-29T20:11:33.635826Z",
     "shell.execute_reply": "2021-05-29T20:11:33.635180Z"
    },
    "papermill": {
     "duration": 0.120221,
     "end_time": "2021-05-29T20:11:33.635938",
     "exception": false,
     "start_time": "2021-05-29T20:11:33.515717",
     "status": "completed"
    },
    "tags": []
   },
   "outputs": [],
   "source": [
    "def generate_rating_df(df):\n",
    "    rating_df = df.groupby(['rating', 'target_ages']).agg({'show_id': 'count'}).reset_index()\n",
    "    rating_df = rating_df[rating_df['show_id'] != 0]\n",
    "    rating_df.columns = ['rating', 'target_ages', 'counts']\n",
    "    rating_df = rating_df.sort_values('target_ages')\n",
    "    return rating_df"
   ]
  },
  {
   "cell_type": "code",
   "execution_count": null,
   "metadata": {
    "execution": {
     "iopub.execute_input": "2021-05-29T20:11:33.855558Z",
     "iopub.status.busy": "2021-05-29T20:11:33.854580Z",
     "iopub.status.idle": "2021-05-29T20:11:33.981494Z",
     "shell.execute_reply": "2021-05-29T20:11:33.981964Z"
    },
    "papermill": {
     "duration": 0.238273,
     "end_time": "2021-05-29T20:11:33.982131",
     "exception": false,
     "start_time": "2021-05-29T20:11:33.743858",
     "status": "completed"
    },
    "tags": []
   },
   "outputs": [],
   "source": [
    "rating_df = generate_rating_df(df)\n",
    "fig = px.bar(rating_df, x='rating', y='counts', color='target_ages')\n",
    "fig.show()"
   ]
  },
  {
   "cell_type": "code",
   "execution_count": null,
   "metadata": {
    "_kg_hide-input": true,
    "execution": {
     "iopub.execute_input": "2021-05-29T20:11:34.213728Z",
     "iopub.status.busy": "2021-05-29T20:11:34.208817Z",
     "iopub.status.idle": "2021-05-29T20:11:34.271052Z",
     "shell.execute_reply": "2021-05-29T20:11:34.270517Z"
    },
    "papermill": {
     "duration": 0.178177,
     "end_time": "2021-05-29T20:11:34.271232",
     "exception": false,
     "start_time": "2021-05-29T20:11:34.093055",
     "status": "completed"
    },
    "tags": []
   },
   "outputs": [],
   "source": [
    "movie_rating_df = generate_rating_df(movie_df)\n",
    "show_rating_df = generate_rating_df(show_df)\n",
    "\n",
    "fig = make_subplots(rows=1, cols=2, specs=[[{\"type\": \"pie\"}, {\"type\": \"pie\"}]])\n",
    "\n",
    "fig.add_trace(\n",
    "    go.Pie(labels=movie_rating_df['target_ages'], values=movie_rating_df['counts']),\n",
    "    row=1, col=1\n",
    ")\n",
    "\n",
    "fig.add_trace(\n",
    "    go.Pie(labels=show_rating_df['target_ages'], values=show_rating_df['counts']),\n",
    "    row=1, col=2\n",
    ")\n",
    "\n",
    "fig.update_traces(textposition='inside', hole=.4, hoverinfo=\"label+percent+name\")\n",
    "fig.update_layout(\n",
    "    title_text=\"Rating distribution by Type of content\",\n",
    "    # Add annotations in the center of the donut pies.\n",
    "    annotations=[dict(text='Movies', x=0.16, y=0.5, font_size=12, showarrow=False),\n",
    "                 dict(text='TV Shows', x=0.82, y=0.5, font_size=12, showarrow=False)])\n",
    "fig.show()"
   ]
  },
  {
   "cell_type": "code",
   "execution_count": null,
   "metadata": {
    "execution": {
     "iopub.execute_input": "2021-05-29T20:11:34.547740Z",
     "iopub.status.busy": "2021-05-29T20:11:34.537181Z",
     "iopub.status.idle": "2021-05-29T20:11:34.555560Z",
     "shell.execute_reply": "2021-05-29T20:11:34.556071Z"
    },
    "papermill": {
     "duration": 0.173377,
     "end_time": "2021-05-29T20:11:34.556228",
     "exception": false,
     "start_time": "2021-05-29T20:11:34.382851",
     "status": "completed"
    },
    "tags": []
   },
   "outputs": [],
   "source": [
    "country_df = df['principal_country'].value_counts().reset_index()\n",
    "country_df = country_df[country_df['principal_country'] /  country_df['principal_country'].sum() > 0.01]\n",
    "\n",
    "fig = px.pie(country_df, values='principal_country', names='index')\n",
    "fig.update_traces(textposition='inside', textinfo='percent+label')\n",
    "fig.show()"
   ]
  },
  {
   "cell_type": "code",
   "execution_count": null,
   "metadata": {
    "execution": {
     "iopub.execute_input": "2021-05-29T20:11:34.802701Z",
     "iopub.status.busy": "2021-05-29T20:11:34.800720Z",
     "iopub.status.idle": "2021-05-29T20:11:34.934348Z",
     "shell.execute_reply": "2021-05-29T20:11:34.934861Z"
    },
    "papermill": {
     "duration": 0.266422,
     "end_time": "2021-05-29T20:11:34.935002",
     "exception": false,
     "start_time": "2021-05-29T20:11:34.668580",
     "status": "completed"
    },
    "tags": []
   },
   "outputs": [],
   "source": [
    "fig = px.histogram(df, x='principal_country')\n",
    "fig.update_xaxes(categoryorder='total descending')\n",
    "fig.show()"
   ]
  },
  {
   "cell_type": "markdown",
   "metadata": {
    "papermill": {
     "duration": 0.112701,
     "end_time": "2021-05-29T20:11:35.163943",
     "exception": false,
     "start_time": "2021-05-29T20:11:35.051242",
     "status": "completed"
    },
    "tags": []
   },
   "source": [
    "# Distribution of content released\n",
    "\n",
    "As we can see, in the last few years, there has been a increment in content productions"
   ]
  },
  {
   "cell_type": "code",
   "execution_count": null,
   "metadata": {
    "execution": {
     "iopub.execute_input": "2021-05-29T20:11:35.396646Z",
     "iopub.status.busy": "2021-05-29T20:11:35.396010Z",
     "iopub.status.idle": "2021-05-29T20:11:35.454797Z",
     "shell.execute_reply": "2021-05-29T20:11:35.455339Z"
    },
    "papermill": {
     "duration": 0.176598,
     "end_time": "2021-05-29T20:11:35.455499",
     "exception": false,
     "start_time": "2021-05-29T20:11:35.278901",
     "status": "completed"
    },
    "tags": []
   },
   "outputs": [],
   "source": [
    "released_year_df = df.loc[df['release_year'] > 2010].groupby(['release_year', 'type']).agg({'show_id': 'count'}).reset_index()\n",
    "added_year_df = df.loc[df['year_added'] > 2010].groupby(['year_added', 'type']).agg({'show_id': 'count'}).reset_index()\n",
    "\n",
    "fig = go.Figure()\n",
    "fig.add_trace(go.Scatter( \n",
    "    x=released_year_df.loc[released_year_df['type'] == 'Movie']['release_year'], \n",
    "    y=released_year_df.loc[released_year_df['type'] == 'Movie']['show_id'],\n",
    "    mode='lines+markers',\n",
    "    name='Movie: Released Year',\n",
    "    marker_color='green',\n",
    "))\n",
    "fig.add_trace(go.Scatter( \n",
    "    x=released_year_df.loc[released_year_df['type'] == 'TV Show']['release_year'], \n",
    "    y=released_year_df.loc[released_year_df['type'] == 'TV Show']['show_id'],\n",
    "    mode='lines+markers',\n",
    "    name='TV Show: Released Year',\n",
    "    marker_color='darkgreen',\n",
    "))\n",
    "fig.add_trace(go.Scatter( \n",
    "    x=added_year_df.loc[added_year_df['type'] == 'Movie']['year_added'], \n",
    "    y=added_year_df.loc[added_year_df['type'] == 'Movie']['show_id'],\n",
    "    mode='lines+markers',\n",
    "    name='Movie: Year Added',\n",
    "    marker_color='orange',\n",
    "))\n",
    "fig.add_trace(go.Scatter( \n",
    "    x=added_year_df.loc[added_year_df['type'] == 'TV Show']['year_added'], \n",
    "    y=added_year_df.loc[added_year_df['type'] == 'TV Show']['show_id'],\n",
    "    mode='lines+markers',\n",
    "    name='TV Show: Year Added',\n",
    "    marker_color='darkorange',\n",
    "))\n",
    "fig.update_xaxes(categoryorder='total descending')\n",
    "fig.show()"
   ]
  },
  {
   "cell_type": "code",
   "execution_count": null,
   "metadata": {
    "execution": {
     "iopub.execute_input": "2021-05-29T20:11:35.688392Z",
     "iopub.status.busy": "2021-05-29T20:11:35.687648Z",
     "iopub.status.idle": "2021-05-29T20:11:36.276782Z",
     "shell.execute_reply": "2021-05-29T20:11:36.277351Z"
    },
    "papermill": {
     "duration": 0.705217,
     "end_time": "2021-05-29T20:11:36.277500",
     "exception": false,
     "start_time": "2021-05-29T20:11:35.572283",
     "status": "completed"
    },
    "tags": []
   },
   "outputs": [],
   "source": [
    "from scipy.stats import norm\n",
    "\n",
    "sns.distplot(df.loc[df['release_year'] > 2000, 'release_year'], fit=norm, kde=False)"
   ]
  },
  {
   "cell_type": "markdown",
   "metadata": {
    "papermill": {
     "duration": 0.113771,
     "end_time": "2021-05-29T20:11:36.509829",
     "exception": false,
     "start_time": "2021-05-29T20:11:36.396058",
     "status": "completed"
    },
    "tags": []
   },
   "source": [
    "# Genres Analysis\n",
    "\n",
    "### Build dataframes for `type`s of content"
   ]
  },
  {
   "cell_type": "code",
   "execution_count": null,
   "metadata": {
    "execution": {
     "iopub.execute_input": "2021-05-29T20:11:36.745326Z",
     "iopub.status.busy": "2021-05-29T20:11:36.744575Z",
     "iopub.status.idle": "2021-05-29T20:11:36.808602Z",
     "shell.execute_reply": "2021-05-29T20:11:36.809204Z"
    },
    "papermill": {
     "duration": 0.183191,
     "end_time": "2021-05-29T20:11:36.809357",
     "exception": false,
     "start_time": "2021-05-29T20:11:36.626166",
     "status": "completed"
    },
    "tags": []
   },
   "outputs": [],
   "source": [
    "from sklearn.preprocessing import MultiLabelBinarizer "
   ]
  },
  {
   "cell_type": "code",
   "execution_count": null,
   "metadata": {
    "execution": {
     "iopub.execute_input": "2021-05-29T20:11:37.050142Z",
     "iopub.status.busy": "2021-05-29T20:11:37.049305Z",
     "iopub.status.idle": "2021-05-29T20:11:37.052126Z",
     "shell.execute_reply": "2021-05-29T20:11:37.051632Z"
    },
    "papermill": {
     "duration": 0.126014,
     "end_time": "2021-05-29T20:11:37.052268",
     "exception": false,
     "start_time": "2021-05-29T20:11:36.926254",
     "status": "completed"
    },
    "tags": []
   },
   "outputs": [],
   "source": [
    "def calculate_mlb(series):\n",
    "    mlb = MultiLabelBinarizer()\n",
    "    mlb_df = pd.DataFrame(mlb.fit_transform(series), columns=mlb.classes_, index=series.index)\n",
    "    return mlb_df"
   ]
  },
  {
   "cell_type": "code",
   "execution_count": null,
   "metadata": {
    "execution": {
     "iopub.execute_input": "2021-05-29T20:11:37.287035Z",
     "iopub.status.busy": "2021-05-29T20:11:37.286431Z",
     "iopub.status.idle": "2021-05-29T20:11:37.293165Z",
     "shell.execute_reply": "2021-05-29T20:11:37.293694Z"
    },
    "papermill": {
     "duration": 0.126458,
     "end_time": "2021-05-29T20:11:37.293837",
     "exception": false,
     "start_time": "2021-05-29T20:11:37.167379",
     "status": "completed"
    },
    "tags": []
   },
   "outputs": [],
   "source": [
    "def top_genres(df, title='Top ones'):\n",
    "    genres_df = calculate_mlb(df['genre'])\n",
    "    tdata = genres_df.sum().sort_values(ascending=False)\n",
    "    \n",
    "    fig = go.Figure()\n",
    "    fig.add_trace(go.Bar(\n",
    "        x=tdata.index,\n",
    "        y=tdata.values,\n",
    "    ))\n",
    "    fig.update_xaxes(categoryorder='total descending')\n",
    "    fig.update_layout(title=title)\n",
    "    fig.show()"
   ]
  },
  {
   "cell_type": "code",
   "execution_count": null,
   "metadata": {
    "execution": {
     "iopub.execute_input": "2021-05-29T20:11:37.529605Z",
     "iopub.status.busy": "2021-05-29T20:11:37.528935Z",
     "iopub.status.idle": "2021-05-29T20:11:37.553718Z",
     "shell.execute_reply": "2021-05-29T20:11:37.554229Z"
    },
    "papermill": {
     "duration": 0.141786,
     "end_time": "2021-05-29T20:11:37.554369",
     "exception": false,
     "start_time": "2021-05-29T20:11:37.412583",
     "status": "completed"
    },
    "tags": []
   },
   "outputs": [],
   "source": [
    "top_genres(movie_df, title='Top Movies Genres')"
   ]
  },
  {
   "cell_type": "code",
   "execution_count": null,
   "metadata": {
    "execution": {
     "iopub.execute_input": "2021-05-29T20:11:37.790874Z",
     "iopub.status.busy": "2021-05-29T20:11:37.790160Z",
     "iopub.status.idle": "2021-05-29T20:11:37.794631Z",
     "shell.execute_reply": "2021-05-29T20:11:37.795072Z"
    },
    "papermill": {
     "duration": 0.122392,
     "end_time": "2021-05-29T20:11:37.795240",
     "exception": false,
     "start_time": "2021-05-29T20:11:37.672848",
     "status": "completed"
    },
    "tags": []
   },
   "outputs": [],
   "source": [
    "top_movies_genres = [\n",
    "    'International Movies',\n",
    "    'Dramas',\n",
    "    'Comedies',\n",
    "    'Documentaries',\n",
    "    'Action & Adventure',\n",
    "]"
   ]
  },
  {
   "cell_type": "code",
   "execution_count": null,
   "metadata": {
    "execution": {
     "iopub.execute_input": "2021-05-29T20:11:38.045606Z",
     "iopub.status.busy": "2021-05-29T20:11:38.044881Z",
     "iopub.status.idle": "2021-05-29T20:11:38.057186Z",
     "shell.execute_reply": "2021-05-29T20:11:38.057768Z"
    },
    "papermill": {
     "duration": 0.144028,
     "end_time": "2021-05-29T20:11:38.057907",
     "exception": false,
     "start_time": "2021-05-29T20:11:37.913879",
     "status": "completed"
    },
    "tags": []
   },
   "outputs": [],
   "source": [
    "top_genres(show_df, title='Top TV Shows Genres')"
   ]
  },
  {
   "cell_type": "code",
   "execution_count": null,
   "metadata": {
    "execution": {
     "iopub.execute_input": "2021-05-29T20:11:38.298393Z",
     "iopub.status.busy": "2021-05-29T20:11:38.297772Z",
     "iopub.status.idle": "2021-05-29T20:11:38.809869Z",
     "shell.execute_reply": "2021-05-29T20:11:38.810564Z"
    },
    "papermill": {
     "duration": 0.632193,
     "end_time": "2021-05-29T20:11:38.810752",
     "exception": false,
     "start_time": "2021-05-29T20:11:38.178559",
     "status": "completed"
    },
    "tags": []
   },
   "outputs": [],
   "source": [
    "genres_df = calculate_mlb(movie_df['genre'])\n",
    "\n",
    "movie_corr = genres_df.corr()\n",
    "movie_mask = np.zeros_like(movie_corr, dtype=np.bool)\n",
    "movie_mask[np.triu_indices_from(movie_mask)] = True\n",
    "fig, ax = plt.subplots(figsize=(10, 7))\n",
    "pl = sns.heatmap(movie_corr, mask=movie_mask, cmap= \"coolwarm\", vmax=.5, vmin=-.5, center=0, linewidths=.5,\n",
    "                 cbar_kws={\"shrink\": 0.6})\n",
    "plt.show()"
   ]
  },
  {
   "cell_type": "code",
   "execution_count": null,
   "metadata": {
    "execution": {
     "iopub.execute_input": "2021-05-29T20:11:39.068525Z",
     "iopub.status.busy": "2021-05-29T20:11:39.067543Z",
     "iopub.status.idle": "2021-05-29T20:11:39.584693Z",
     "shell.execute_reply": "2021-05-29T20:11:39.585189Z"
    },
    "papermill": {
     "duration": 0.650901,
     "end_time": "2021-05-29T20:11:39.585328",
     "exception": false,
     "start_time": "2021-05-29T20:11:38.934427",
     "status": "completed"
    },
    "tags": []
   },
   "outputs": [],
   "source": [
    "genres_df = calculate_mlb(show_df['genre'])\n",
    "\n",
    "show_corr = genres_df.corr()\n",
    "show_mask = np.zeros_like(show_corr, dtype=np.bool)\n",
    "show_mask[np.triu_indices_from(show_mask)] = True\n",
    "fig, ax = plt.subplots(figsize=(10, 7))\n",
    "pl = sns.heatmap(show_corr, mask=show_mask, cmap= \"coolwarm\", vmax=.5, vmin=-.5, center=0, linewidths=.5,\n",
    "                 cbar_kws={\"shrink\": 0.6})\n",
    "plt.show()"
   ]
  },
  {
   "cell_type": "markdown",
   "metadata": {
    "papermill": {
     "duration": 0.120768,
     "end_time": "2021-05-29T20:11:39.831164",
     "exception": false,
     "start_time": "2021-05-29T20:11:39.710396",
     "status": "completed"
    },
    "tags": []
   },
   "source": [
    "## Word cloud"
   ]
  },
  {
   "cell_type": "code",
   "execution_count": null,
   "metadata": {
    "execution": {
     "iopub.execute_input": "2021-05-29T20:11:40.082236Z",
     "iopub.status.busy": "2021-05-29T20:11:40.081527Z",
     "iopub.status.idle": "2021-05-29T20:11:42.177564Z",
     "shell.execute_reply": "2021-05-29T20:11:42.178062Z"
    },
    "papermill": {
     "duration": 2.222964,
     "end_time": "2021-05-29T20:11:42.178216",
     "exception": false,
     "start_time": "2021-05-29T20:11:39.955252",
     "status": "completed"
    },
    "tags": []
   },
   "outputs": [],
   "source": [
    "from wordcloud import WordCloud\n",
    "\n",
    "text = str(list(movie_df['genre'])).replace(',', '').replace('[', '').replace(\"'\", '').replace(']', '')\n",
    "\n",
    "plt.rcParams['figure.figsize'] = (15, 15)\n",
    "wordcloud = WordCloud(background_color = 'white', width = 1200,  height = 1200, max_words = 121).generate(text)\n",
    "plt.imshow(wordcloud)\n",
    "plt.axis('off')\n",
    "plt.show()"
   ]
  },
  {
   "cell_type": "markdown",
   "metadata": {
    "papermill": {
     "duration": 0.12919,
     "end_time": "2021-05-29T20:11:42.441514",
     "exception": false,
     "start_time": "2021-05-29T20:11:42.312324",
     "status": "completed"
    },
    "tags": []
   },
   "source": [
    "# Duration analysis"
   ]
  },
  {
   "cell_type": "markdown",
   "metadata": {
    "papermill": {
     "duration": 0.13076,
     "end_time": "2021-05-29T20:11:42.702839",
     "exception": false,
     "start_time": "2021-05-29T20:11:42.572079",
     "status": "completed"
    },
    "tags": []
   },
   "source": [
    "### Analyze Series duration\n",
    "\n",
    "This values are in term of seasons, so there is no much to analyze.\n",
    "\n",
    "As we can see the most of the series are only **1 season** probably becasuse they were cancelled or they are new and the second one is in production."
   ]
  },
  {
   "cell_type": "code",
   "execution_count": null,
   "metadata": {
    "execution": {
     "iopub.execute_input": "2021-05-29T20:11:42.968380Z",
     "iopub.status.busy": "2021-05-29T20:11:42.967627Z",
     "iopub.status.idle": "2021-05-29T20:11:43.067154Z",
     "shell.execute_reply": "2021-05-29T20:11:43.066569Z"
    },
    "papermill": {
     "duration": 0.233428,
     "end_time": "2021-05-29T20:11:43.067280",
     "exception": false,
     "start_time": "2021-05-29T20:11:42.833852",
     "status": "completed"
    },
    "tags": []
   },
   "outputs": [],
   "source": [
    "fig = px.histogram(x=show_df['duration'])\n",
    "fig.update_xaxes(categoryorder=\"total descending\")\n",
    "fig.update_layout(\n",
    "    title=\"Distribution of shows duration\",\n",
    "    xaxis_title=\"Duration of the Show\",\n",
    ")\n",
    "fig.show()"
   ]
  },
  {
   "cell_type": "markdown",
   "metadata": {
    "papermill": {
     "duration": 0.130157,
     "end_time": "2021-05-29T20:11:43.349603",
     "exception": false,
     "start_time": "2021-05-29T20:11:43.219446",
     "status": "completed"
    },
    "tags": []
   },
   "source": [
    "### Movie duration Alasysis\n",
    "\n",
    "Lets split the data duration into bins:\n",
    "- Less than 1.30 hours\n",
    "- More than 1.30 hours and less than 2.30 hours\n",
    "- Morte than 2.30 hours\n",
    "\n",
    "As we can see, the most part of the movies' **duration is between 1.30 hours and 2.30 hours**"
   ]
  },
  {
   "cell_type": "code",
   "execution_count": null,
   "metadata": {
    "execution": {
     "iopub.execute_input": "2021-05-29T20:11:43.629283Z",
     "iopub.status.busy": "2021-05-29T20:11:43.628566Z",
     "iopub.status.idle": "2021-05-29T20:11:43.630595Z",
     "shell.execute_reply": "2021-05-29T20:11:43.631066Z"
    },
    "papermill": {
     "duration": 0.148084,
     "end_time": "2021-05-29T20:11:43.631241",
     "exception": false,
     "start_time": "2021-05-29T20:11:43.483157",
     "status": "completed"
    },
    "tags": []
   },
   "outputs": [],
   "source": [
    "temp_duration = movie_df['duration'].apply(lambda x: int(x.split(' ')[0]))"
   ]
  },
  {
   "cell_type": "code",
   "execution_count": null,
   "metadata": {
    "execution": {
     "iopub.execute_input": "2021-05-29T20:11:43.909391Z",
     "iopub.status.busy": "2021-05-29T20:11:43.908540Z",
     "iopub.status.idle": "2021-05-29T20:11:43.918749Z",
     "shell.execute_reply": "2021-05-29T20:11:43.919241Z"
    },
    "papermill": {
     "duration": 0.154182,
     "end_time": "2021-05-29T20:11:43.919399",
     "exception": false,
     "start_time": "2021-05-29T20:11:43.765217",
     "status": "completed"
    },
    "tags": []
   },
   "outputs": [],
   "source": [
    "movie_df.loc[temp_duration.loc[temp_duration < 90].index, 'duration_bin'] = 'Less than 1.30 hours'\n",
    "movie_df.loc[temp_duration.loc[(temp_duration >= 90) & (temp_duration < 150)].index, 'duration_bin'] = 'More than 1.30 - less than 2.30 hours'\n",
    "movie_df.loc[temp_duration.loc[temp_duration >= 150].index, 'duration_bin'] = 'More than 2.30 hours'"
   ]
  },
  {
   "cell_type": "code",
   "execution_count": null,
   "metadata": {
    "execution": {
     "iopub.execute_input": "2021-05-29T20:11:44.216985Z",
     "iopub.status.busy": "2021-05-29T20:11:44.215868Z",
     "iopub.status.idle": "2021-05-29T20:11:44.220779Z",
     "shell.execute_reply": "2021-05-29T20:11:44.219874Z"
    },
    "papermill": {
     "duration": 0.16393,
     "end_time": "2021-05-29T20:11:44.220996",
     "exception": false,
     "start_time": "2021-05-29T20:11:44.057066",
     "status": "completed"
    },
    "tags": []
   },
   "outputs": [],
   "source": [
    "movie_df.head()"
   ]
  },
  {
   "cell_type": "code",
   "execution_count": null,
   "metadata": {
    "execution": {
     "iopub.execute_input": "2021-05-29T20:11:44.510702Z",
     "iopub.status.busy": "2021-05-29T20:11:44.510007Z",
     "iopub.status.idle": "2021-05-29T20:11:44.620223Z",
     "shell.execute_reply": "2021-05-29T20:11:44.620731Z"
    },
    "papermill": {
     "duration": 0.263585,
     "end_time": "2021-05-29T20:11:44.620874",
     "exception": false,
     "start_time": "2021-05-29T20:11:44.357289",
     "status": "completed"
    },
    "tags": []
   },
   "outputs": [],
   "source": [
    "fig = px.histogram(x=movie_df['duration_bin'], color=movie_df['duration_bin'])\n",
    "fig.update_xaxes(categoryorder = \"array\",\n",
    "                categoryarray = ['Less than 1.30 hours', 'More than 1.30 - less than 2.30 hours', 'More than 2.30 hours'],\n",
    "                )\n",
    "fig.update_layout(\n",
    "    title=\"Distribution of movies duration\",\n",
    "    xaxis_title=\"Duration of the Movies\",\n",
    ")\n",
    "fig.show()"
   ]
  },
  {
   "cell_type": "markdown",
   "metadata": {
    "papermill": {
     "duration": 0.136489,
     "end_time": "2021-05-29T20:11:44.898666",
     "exception": false,
     "start_time": "2021-05-29T20:11:44.762177",
     "status": "completed"
    },
    "tags": []
   },
   "source": [
    "# Top Genres release by year\n",
    "\n",
    "As we saw in the previos steps, in the last 4 years, there has been  a huge amount of shows releases. So we are going to explore the distribution of genres by year.\n",
    "\n",
    "We are going to use new plot **sunburst**. Maybe it's not the best plot for this porpose, but i want to use and how different types of charts."
   ]
  },
  {
   "cell_type": "code",
   "execution_count": null,
   "metadata": {
    "execution": {
     "iopub.execute_input": "2021-05-29T20:11:45.186166Z",
     "iopub.status.busy": "2021-05-29T20:11:45.185457Z",
     "iopub.status.idle": "2021-05-29T20:11:45.188396Z",
     "shell.execute_reply": "2021-05-29T20:11:45.187882Z"
    },
    "papermill": {
     "duration": 0.148614,
     "end_time": "2021-05-29T20:11:45.188519",
     "exception": false,
     "start_time": "2021-05-29T20:11:45.039905",
     "status": "completed"
    },
    "tags": []
   },
   "outputs": [],
   "source": [
    "def check_genre_contains(genres):\n",
    "    for genre in genres:\n",
    "        if genre in top_movies_genres:\n",
    "            return True\n",
    "    return False"
   ]
  },
  {
   "cell_type": "code",
   "execution_count": null,
   "metadata": {
    "execution": {
     "iopub.execute_input": "2021-05-29T20:11:45.481836Z",
     "iopub.status.busy": "2021-05-29T20:11:45.481124Z",
     "iopub.status.idle": "2021-05-29T20:11:45.485634Z",
     "shell.execute_reply": "2021-05-29T20:11:45.485046Z"
    },
    "papermill": {
     "duration": 0.155107,
     "end_time": "2021-05-29T20:11:45.485746",
     "exception": false,
     "start_time": "2021-05-29T20:11:45.330639",
     "status": "completed"
    },
    "tags": []
   },
   "outputs": [],
   "source": [
    "movie_df['principal_genre'] = movie_df['genre'].apply(lambda genres: genres[0])\n",
    "movie_df['principal_genre'].head()"
   ]
  },
  {
   "cell_type": "code",
   "execution_count": null,
   "metadata": {
    "_kg_hide-input": true,
    "execution": {
     "iopub.execute_input": "2021-05-29T20:11:45.777195Z",
     "iopub.status.busy": "2021-05-29T20:11:45.776041Z",
     "iopub.status.idle": "2021-05-29T20:11:45.894804Z",
     "shell.execute_reply": "2021-05-29T20:11:45.895332Z"
    },
    "papermill": {
     "duration": 0.267039,
     "end_time": "2021-05-29T20:11:45.895490",
     "exception": false,
     "start_time": "2021-05-29T20:11:45.628451",
     "status": "completed"
    },
    "tags": []
   },
   "outputs": [],
   "source": [
    "year_genre_df = movie_df[(movie_df['principal_genre'].isin(top_movies_genres)) & (movie_df['year_added'] >= 2017)].groupby(['principal_genre', 'year_added']).agg({'title': 'count'})\n",
    "year_genre_df = year_genre_df.reset_index()\n",
    "year_genre_df.columns = ['principal_genre', 'year_added', 'count']\n",
    "\n",
    "fig = px.sunburst(year_genre_df, path=['year_added', 'principal_genre'], values='count')\n",
    "fig.show()"
   ]
  },
  {
   "cell_type": "code",
   "execution_count": null,
   "metadata": {
    "papermill": {
     "duration": 0.137446,
     "end_time": "2021-05-29T20:11:46.176584",
     "exception": false,
     "start_time": "2021-05-29T20:11:46.039138",
     "status": "completed"
    },
    "tags": []
   },
   "outputs": [],
   "source": []
  }
 ],
 "metadata": {
  "kernelspec": {
   "display_name": "Python 3",
   "language": "python",
   "name": "python3"
  },
  "language_info": {
   "codemirror_mode": {
    "name": "ipython",
    "version": 3
   },
   "file_extension": ".py",
   "mimetype": "text/x-python",
   "name": "python",
   "nbconvert_exporter": "python",
   "pygments_lexer": "ipython3",
   "version": "3.8.8"
  },
  "papermill": {
   "duration": 45.295398,
   "end_time": "2021-05-29T20:11:46.432797",
   "environment_variables": {},
   "exception": null,
   "input_path": "__notebook__.ipynb",
   "output_path": "__notebook__.ipynb",
   "parameters": {},
   "start_time": "2021-05-29T20:11:01.137399",
   "version": "2.1.0"
  },
  "widgets": {
   "application/vnd.jupyter.widget-state+json": {
    "state": {
     "040c281cdec849d9a7b6a5b091923940": {
      "model_module": "@jupyter-widgets/controls",
      "model_module_version": "1.5.0",
      "model_name": "DescriptionStyleModel",
      "state": {
       "_model_module": "@jupyter-widgets/controls",
       "_model_module_version": "1.5.0",
       "_model_name": "DescriptionStyleModel",
       "_view_count": null,
       "_view_module": "@jupyter-widgets/base",
       "_view_module_version": "1.2.0",
       "_view_name": "StyleView",
       "description_width": ""
      }
     },
     "06219a0a1ab74f8b823a29ad9acd4e04": {
      "model_module": "@jupyter-widgets/controls",
      "model_module_version": "1.5.0",
      "model_name": "HTMLModel",
      "state": {
       "_dom_classes": [],
       "_model_module": "@jupyter-widgets/controls",
       "_model_module_version": "1.5.0",
       "_model_name": "HTMLModel",
       "_view_count": null,
       "_view_module": "@jupyter-widgets/controls",
       "_view_module_version": "1.5.0",
       "_view_name": "HTMLView",
       "description": "",
       "description_tooltip": null,
       "layout": "IPY_MODEL_e0264cf9db7b447e8c44dba01d586ca0",
       "placeholder": "​",
       "style": "IPY_MODEL_279cfbae5ff34280a9accb8ccf8366a6",
       "value": " 1/1 [00:02&lt;00:00,  2.24s/it]"
      }
     },
     "08094da6410c419cbe827ac79812b53f": {
      "model_module": "@jupyter-widgets/base",
      "model_module_version": "1.2.0",
      "model_name": "LayoutModel",
      "state": {
       "_model_module": "@jupyter-widgets/base",
       "_model_module_version": "1.2.0",
       "_model_name": "LayoutModel",
       "_view_count": null,
       "_view_module": "@jupyter-widgets/base",
       "_view_module_version": "1.2.0",
       "_view_name": "LayoutView",
       "align_content": null,
       "align_items": null,
       "align_self": null,
       "border": null,
       "bottom": null,
       "display": null,
       "flex": null,
       "flex_flow": null,
       "grid_area": null,
       "grid_auto_columns": null,
       "grid_auto_flow": null,
       "grid_auto_rows": null,
       "grid_column": null,
       "grid_gap": null,
       "grid_row": null,
       "grid_template_areas": null,
       "grid_template_columns": null,
       "grid_template_rows": null,
       "height": null,
       "justify_content": null,
       "justify_items": null,
       "left": null,
       "margin": null,
       "max_height": null,
       "max_width": null,
       "min_height": null,
       "min_width": null,
       "object_fit": null,
       "object_position": null,
       "order": null,
       "overflow": null,
       "overflow_x": null,
       "overflow_y": null,
       "padding": null,
       "right": null,
       "top": null,
       "visibility": null,
       "width": null
      }
     },
     "0a8cb4fdbf2346de99a759bab589f858": {
      "model_module": "@jupyter-widgets/controls",
      "model_module_version": "1.5.0",
      "model_name": "HTMLModel",
      "state": {
       "_dom_classes": [],
       "_model_module": "@jupyter-widgets/controls",
       "_model_module_version": "1.5.0",
       "_model_name": "HTMLModel",
       "_view_count": null,
       "_view_module": "@jupyter-widgets/controls",
       "_view_module_version": "1.5.0",
       "_view_name": "HTMLView",
       "description": "",
       "description_tooltip": null,
       "layout": "IPY_MODEL_633acb74cbf84fe3b810a1baef1d7e75",
       "placeholder": "​",
       "style": "IPY_MODEL_0bd7aab9f76a4a7fa8b8d94fd69ef640",
       "value": " 6/6 [00:05&lt;00:00,  1.07it/s]"
      }
     },
     "0bd7aab9f76a4a7fa8b8d94fd69ef640": {
      "model_module": "@jupyter-widgets/controls",
      "model_module_version": "1.5.0",
      "model_name": "DescriptionStyleModel",
      "state": {
       "_model_module": "@jupyter-widgets/controls",
       "_model_module_version": "1.5.0",
       "_model_name": "DescriptionStyleModel",
       "_view_count": null,
       "_view_module": "@jupyter-widgets/base",
       "_view_module_version": "1.2.0",
       "_view_name": "StyleView",
       "description_width": ""
      }
     },
     "0c06edf14b274dec90ce22dd00dd631b": {
      "model_module": "@jupyter-widgets/base",
      "model_module_version": "1.2.0",
      "model_name": "LayoutModel",
      "state": {
       "_model_module": "@jupyter-widgets/base",
       "_model_module_version": "1.2.0",
       "_model_name": "LayoutModel",
       "_view_count": null,
       "_view_module": "@jupyter-widgets/base",
       "_view_module_version": "1.2.0",
       "_view_name": "LayoutView",
       "align_content": null,
       "align_items": null,
       "align_self": null,
       "border": null,
       "bottom": null,
       "display": null,
       "flex": null,
       "flex_flow": null,
       "grid_area": null,
       "grid_auto_columns": null,
       "grid_auto_flow": null,
       "grid_auto_rows": null,
       "grid_column": null,
       "grid_gap": null,
       "grid_row": null,
       "grid_template_areas": null,
       "grid_template_columns": null,
       "grid_template_rows": null,
       "height": null,
       "justify_content": null,
       "justify_items": null,
       "left": null,
       "margin": null,
       "max_height": null,
       "max_width": null,
       "min_height": null,
       "min_width": null,
       "object_fit": null,
       "object_position": null,
       "order": null,
       "overflow": null,
       "overflow_x": null,
       "overflow_y": null,
       "padding": null,
       "right": null,
       "top": null,
       "visibility": null,
       "width": null
      }
     },
     "0ca89859023f4c13b3f1bc131eb80230": {
      "model_module": "@jupyter-widgets/controls",
      "model_module_version": "1.5.0",
      "model_name": "HTMLModel",
      "state": {
       "_dom_classes": [],
       "_model_module": "@jupyter-widgets/controls",
       "_model_module_version": "1.5.0",
       "_model_name": "HTMLModel",
       "_view_count": null,
       "_view_module": "@jupyter-widgets/controls",
       "_view_module_version": "1.5.0",
       "_view_name": "HTMLView",
       "description": "",
       "description_tooltip": null,
       "layout": "IPY_MODEL_ac9d87536bb94cdbafc206ea8f296f30",
       "placeholder": "​",
       "style": "IPY_MODEL_4a7d7cd2b9f9484b97a5bb3d89ffd434",
       "value": " 1/1 [00:01&lt;00:00,  1.99s/it]"
      }
     },
     "0d4724a92f484cc5af4d660a25d11653": {
      "model_module": "@jupyter-widgets/controls",
      "model_module_version": "1.5.0",
      "model_name": "ProgressStyleModel",
      "state": {
       "_model_module": "@jupyter-widgets/controls",
       "_model_module_version": "1.5.0",
       "_model_name": "ProgressStyleModel",
       "_view_count": null,
       "_view_module": "@jupyter-widgets/base",
       "_view_module_version": "1.2.0",
       "_view_name": "StyleView",
       "bar_color": null,
       "description_width": "initial"
      }
     },
     "0ee9d084e88f41e7a641ced56f37da71": {
      "model_module": "@jupyter-widgets/base",
      "model_module_version": "1.2.0",
      "model_name": "LayoutModel",
      "state": {
       "_model_module": "@jupyter-widgets/base",
       "_model_module_version": "1.2.0",
       "_model_name": "LayoutModel",
       "_view_count": null,
       "_view_module": "@jupyter-widgets/base",
       "_view_module_version": "1.2.0",
       "_view_name": "LayoutView",
       "align_content": null,
       "align_items": null,
       "align_self": null,
       "border": null,
       "bottom": null,
       "display": null,
       "flex": null,
       "flex_flow": null,
       "grid_area": null,
       "grid_auto_columns": null,
       "grid_auto_flow": null,
       "grid_auto_rows": null,
       "grid_column": null,
       "grid_gap": null,
       "grid_row": null,
       "grid_template_areas": null,
       "grid_template_columns": null,
       "grid_template_rows": null,
       "height": null,
       "justify_content": null,
       "justify_items": null,
       "left": null,
       "margin": null,
       "max_height": null,
       "max_width": null,
       "min_height": null,
       "min_width": null,
       "object_fit": null,
       "object_position": null,
       "order": null,
       "overflow": null,
       "overflow_x": null,
       "overflow_y": null,
       "padding": null,
       "right": null,
       "top": null,
       "visibility": null,
       "width": null
      }
     },
     "195d6e7e59d04ed695283d5008833118": {
      "model_module": "@jupyter-widgets/base",
      "model_module_version": "1.2.0",
      "model_name": "LayoutModel",
      "state": {
       "_model_module": "@jupyter-widgets/base",
       "_model_module_version": "1.2.0",
       "_model_name": "LayoutModel",
       "_view_count": null,
       "_view_module": "@jupyter-widgets/base",
       "_view_module_version": "1.2.0",
       "_view_name": "LayoutView",
       "align_content": null,
       "align_items": null,
       "align_self": null,
       "border": null,
       "bottom": null,
       "display": null,
       "flex": null,
       "flex_flow": null,
       "grid_area": null,
       "grid_auto_columns": null,
       "grid_auto_flow": null,
       "grid_auto_rows": null,
       "grid_column": null,
       "grid_gap": null,
       "grid_row": null,
       "grid_template_areas": null,
       "grid_template_columns": null,
       "grid_template_rows": null,
       "height": null,
       "justify_content": null,
       "justify_items": null,
       "left": null,
       "margin": null,
       "max_height": null,
       "max_width": null,
       "min_height": null,
       "min_width": null,
       "object_fit": null,
       "object_position": null,
       "order": null,
       "overflow": null,
       "overflow_x": null,
       "overflow_y": null,
       "padding": null,
       "right": null,
       "top": null,
       "visibility": null,
       "width": null
      }
     },
     "19ee6640e96a41778a739cef07506941": {
      "model_module": "@jupyter-widgets/controls",
      "model_module_version": "1.5.0",
      "model_name": "ProgressStyleModel",
      "state": {
       "_model_module": "@jupyter-widgets/controls",
       "_model_module_version": "1.5.0",
       "_model_name": "ProgressStyleModel",
       "_view_count": null,
       "_view_module": "@jupyter-widgets/base",
       "_view_module_version": "1.2.0",
       "_view_name": "StyleView",
       "bar_color": null,
       "description_width": "initial"
      }
     },
     "1aa2cb9cbe9a4a309b0c9b8ee6f1ba78": {
      "model_module": "@jupyter-widgets/controls",
      "model_module_version": "1.5.0",
      "model_name": "HBoxModel",
      "state": {
       "_dom_classes": [],
       "_model_module": "@jupyter-widgets/controls",
       "_model_module_version": "1.5.0",
       "_model_name": "HBoxModel",
       "_view_count": null,
       "_view_module": "@jupyter-widgets/controls",
       "_view_module_version": "1.5.0",
       "_view_name": "HBoxView",
       "box_style": "",
       "children": [
        "IPY_MODEL_b70dac66791d48cca899e7046fd3975a",
        "IPY_MODEL_4d6884fd80eb4fe59072744790c83563"
       ],
       "layout": "IPY_MODEL_5884bafb18284d6db898247ad9e7ade0"
      }
     },
     "1ad6c182fa564bb080f4e7b9f7b538ab": {
      "model_module": "@jupyter-widgets/controls",
      "model_module_version": "1.5.0",
      "model_name": "FloatProgressModel",
      "state": {
       "_dom_classes": [],
       "_model_module": "@jupyter-widgets/controls",
       "_model_module_version": "1.5.0",
       "_model_name": "FloatProgressModel",
       "_view_count": null,
       "_view_module": "@jupyter-widgets/controls",
       "_view_module_version": "1.5.0",
       "_view_name": "ProgressView",
       "bar_style": "success",
       "description": "build report structure: 100%",
       "description_tooltip": null,
       "layout": "IPY_MODEL_965769e91d944e02a59acb25d630a842",
       "max": 1,
       "min": 0,
       "orientation": "horizontal",
       "style": "IPY_MODEL_b96c2841a74c418f93c9cb3367e1bae4",
       "value": 1
      }
     },
     "1b6d0c9f9f314e2c9402a2848227cc25": {
      "model_module": "@jupyter-widgets/base",
      "model_module_version": "1.2.0",
      "model_name": "LayoutModel",
      "state": {
       "_model_module": "@jupyter-widgets/base",
       "_model_module_version": "1.2.0",
       "_model_name": "LayoutModel",
       "_view_count": null,
       "_view_module": "@jupyter-widgets/base",
       "_view_module_version": "1.2.0",
       "_view_name": "LayoutView",
       "align_content": null,
       "align_items": null,
       "align_self": null,
       "border": null,
       "bottom": null,
       "display": null,
       "flex": null,
       "flex_flow": null,
       "grid_area": null,
       "grid_auto_columns": null,
       "grid_auto_flow": null,
       "grid_auto_rows": null,
       "grid_column": null,
       "grid_gap": null,
       "grid_row": null,
       "grid_template_areas": null,
       "grid_template_columns": null,
       "grid_template_rows": null,
       "height": null,
       "justify_content": null,
       "justify_items": null,
       "left": null,
       "margin": null,
       "max_height": null,
       "max_width": null,
       "min_height": null,
       "min_width": null,
       "object_fit": null,
       "object_position": null,
       "order": null,
       "overflow": null,
       "overflow_x": null,
       "overflow_y": null,
       "padding": null,
       "right": null,
       "top": null,
       "visibility": null,
       "width": null
      }
     },
     "208d024a653341c283f566b55dc187b8": {
      "model_module": "@jupyter-widgets/controls",
      "model_module_version": "1.5.0",
      "model_name": "DescriptionStyleModel",
      "state": {
       "_model_module": "@jupyter-widgets/controls",
       "_model_module_version": "1.5.0",
       "_model_name": "DescriptionStyleModel",
       "_view_count": null,
       "_view_module": "@jupyter-widgets/base",
       "_view_module_version": "1.2.0",
       "_view_name": "StyleView",
       "description_width": ""
      }
     },
     "218325c344464c9c894e5afbeb686e5d": {
      "model_module": "@jupyter-widgets/controls",
      "model_module_version": "1.5.0",
      "model_name": "ProgressStyleModel",
      "state": {
       "_model_module": "@jupyter-widgets/controls",
       "_model_module_version": "1.5.0",
       "_model_name": "ProgressStyleModel",
       "_view_count": null,
       "_view_module": "@jupyter-widgets/base",
       "_view_module_version": "1.2.0",
       "_view_name": "StyleView",
       "bar_color": null,
       "description_width": "initial"
      }
     },
     "2782d79819214b8c95ebc678508b3c6d": {
      "model_module": "@jupyter-widgets/controls",
      "model_module_version": "1.5.0",
      "model_name": "DescriptionStyleModel",
      "state": {
       "_model_module": "@jupyter-widgets/controls",
       "_model_module_version": "1.5.0",
       "_model_name": "DescriptionStyleModel",
       "_view_count": null,
       "_view_module": "@jupyter-widgets/base",
       "_view_module_version": "1.2.0",
       "_view_name": "StyleView",
       "description_width": ""
      }
     },
     "279cfbae5ff34280a9accb8ccf8366a6": {
      "model_module": "@jupyter-widgets/controls",
      "model_module_version": "1.5.0",
      "model_name": "DescriptionStyleModel",
      "state": {
       "_model_module": "@jupyter-widgets/controls",
       "_model_module_version": "1.5.0",
       "_model_name": "DescriptionStyleModel",
       "_view_count": null,
       "_view_module": "@jupyter-widgets/base",
       "_view_module_version": "1.2.0",
       "_view_name": "StyleView",
       "description_width": ""
      }
     },
     "27eeb3a2678b49cb97ecd85c6aed4379": {
      "model_module": "@jupyter-widgets/controls",
      "model_module_version": "1.5.0",
      "model_name": "HTMLModel",
      "state": {
       "_dom_classes": [],
       "_model_module": "@jupyter-widgets/controls",
       "_model_module_version": "1.5.0",
       "_model_name": "HTMLModel",
       "_view_count": null,
       "_view_module": "@jupyter-widgets/controls",
       "_view_module_version": "1.5.0",
       "_view_name": "HTMLView",
       "description": "",
       "description_tooltip": null,
       "layout": "IPY_MODEL_915b93a5c9b1409497a2f63ff0b6bd99",
       "placeholder": "​",
       "style": "IPY_MODEL_208d024a653341c283f566b55dc187b8",
       "value": " 12/12 [00:08&lt;00:00,  1.35it/s]"
      }
     },
     "3390254cf2f04bc88c534592db51ae04": {
      "model_module": "@jupyter-widgets/controls",
      "model_module_version": "1.5.0",
      "model_name": "HBoxModel",
      "state": {
       "_dom_classes": [],
       "_model_module": "@jupyter-widgets/controls",
       "_model_module_version": "1.5.0",
       "_model_name": "HBoxModel",
       "_view_count": null,
       "_view_module": "@jupyter-widgets/controls",
       "_view_module_version": "1.5.0",
       "_view_name": "HBoxView",
       "box_style": "",
       "children": [
        "IPY_MODEL_1ad6c182fa564bb080f4e7b9f7b538ab",
        "IPY_MODEL_44694f40c70c44f4b3eb9929bb141d37"
       ],
       "layout": "IPY_MODEL_edad4b7567c943ef9cd47f58ef7c515c"
      }
     },
     "38d9472ac8104dbc81a441c73be063dd": {
      "model_module": "@jupyter-widgets/base",
      "model_module_version": "1.2.0",
      "model_name": "LayoutModel",
      "state": {
       "_model_module": "@jupyter-widgets/base",
       "_model_module_version": "1.2.0",
       "_model_name": "LayoutModel",
       "_view_count": null,
       "_view_module": "@jupyter-widgets/base",
       "_view_module_version": "1.2.0",
       "_view_name": "LayoutView",
       "align_content": null,
       "align_items": null,
       "align_self": null,
       "border": null,
       "bottom": null,
       "display": null,
       "flex": null,
       "flex_flow": null,
       "grid_area": null,
       "grid_auto_columns": null,
       "grid_auto_flow": null,
       "grid_auto_rows": null,
       "grid_column": null,
       "grid_gap": null,
       "grid_row": null,
       "grid_template_areas": null,
       "grid_template_columns": null,
       "grid_template_rows": null,
       "height": null,
       "justify_content": null,
       "justify_items": null,
       "left": null,
       "margin": null,
       "max_height": null,
       "max_width": null,
       "min_height": null,
       "min_width": null,
       "object_fit": null,
       "object_position": null,
       "order": null,
       "overflow": null,
       "overflow_x": null,
       "overflow_y": null,
       "padding": null,
       "right": null,
       "top": null,
       "visibility": null,
       "width": null
      }
     },
     "3913e7f0f4ef46688e1815f0ae897d5f": {
      "model_module": "@jupyter-widgets/controls",
      "model_module_version": "1.5.0",
      "model_name": "FloatProgressModel",
      "state": {
       "_dom_classes": [],
       "_model_module": "@jupyter-widgets/controls",
       "_model_module_version": "1.5.0",
       "_model_name": "FloatProgressModel",
       "_view_count": null,
       "_view_module": "@jupyter-widgets/controls",
       "_view_module_version": "1.5.0",
       "_view_name": "ProgressView",
       "bar_style": "success",
       "description": "correlations [recoded]: 100%",
       "description_tooltip": null,
       "layout": "IPY_MODEL_87ebb9d91f8a419c9d2a727541c348d2",
       "max": 6,
       "min": 0,
       "orientation": "horizontal",
       "style": "IPY_MODEL_fed4c565e6a14fcc8ecc72066596368c",
       "value": 6
      }
     },
     "41a80bf199f94f8bbc2ee0b0d8940fab": {
      "model_module": "@jupyter-widgets/base",
      "model_module_version": "1.2.0",
      "model_name": "LayoutModel",
      "state": {
       "_model_module": "@jupyter-widgets/base",
       "_model_module_version": "1.2.0",
       "_model_name": "LayoutModel",
       "_view_count": null,
       "_view_module": "@jupyter-widgets/base",
       "_view_module_version": "1.2.0",
       "_view_name": "LayoutView",
       "align_content": null,
       "align_items": null,
       "align_self": null,
       "border": null,
       "bottom": null,
       "display": null,
       "flex": null,
       "flex_flow": null,
       "grid_area": null,
       "grid_auto_columns": null,
       "grid_auto_flow": null,
       "grid_auto_rows": null,
       "grid_column": null,
       "grid_gap": null,
       "grid_row": null,
       "grid_template_areas": null,
       "grid_template_columns": null,
       "grid_template_rows": null,
       "height": null,
       "justify_content": null,
       "justify_items": null,
       "left": null,
       "margin": null,
       "max_height": null,
       "max_width": null,
       "min_height": null,
       "min_width": null,
       "object_fit": null,
       "object_position": null,
       "order": null,
       "overflow": null,
       "overflow_x": null,
       "overflow_y": null,
       "padding": null,
       "right": null,
       "top": null,
       "visibility": null,
       "width": null
      }
     },
     "44694f40c70c44f4b3eb9929bb141d37": {
      "model_module": "@jupyter-widgets/controls",
      "model_module_version": "1.5.0",
      "model_name": "HTMLModel",
      "state": {
       "_dom_classes": [],
       "_model_module": "@jupyter-widgets/controls",
       "_model_module_version": "1.5.0",
       "_model_name": "HTMLModel",
       "_view_count": null,
       "_view_module": "@jupyter-widgets/controls",
       "_view_module_version": "1.5.0",
       "_view_name": "HTMLView",
       "description": "",
       "description_tooltip": null,
       "layout": "IPY_MODEL_99a0f77cbae44179b8dc9543d9a7db98",
       "placeholder": "​",
       "style": "IPY_MODEL_e8f2af4dfc2f488184afe109f28de828",
       "value": " 1/1 [00:17&lt;00:00, 17.06s/it]"
      }
     },
     "44b99b9190b046f9bf4da48da9625364": {
      "model_module": "@jupyter-widgets/controls",
      "model_module_version": "1.5.0",
      "model_name": "HTMLModel",
      "state": {
       "_dom_classes": [],
       "_model_module": "@jupyter-widgets/controls",
       "_model_module_version": "1.5.0",
       "_model_name": "HTMLModel",
       "_view_count": null,
       "_view_module": "@jupyter-widgets/controls",
       "_view_module_version": "1.5.0",
       "_view_name": "HTMLView",
       "description": "",
       "description_tooltip": null,
       "layout": "IPY_MODEL_98134428de8e4fda890108a04e08853a",
       "placeholder": "​",
       "style": "IPY_MODEL_2782d79819214b8c95ebc678508b3c6d",
       "value": " 1/1 [00:00&lt;00:00,  3.22it/s]"
      }
     },
     "45f8266e465040aaa27c39d4efcfd436": {
      "model_module": "@jupyter-widgets/controls",
      "model_module_version": "1.5.0",
      "model_name": "HBoxModel",
      "state": {
       "_dom_classes": [],
       "_model_module": "@jupyter-widgets/controls",
       "_model_module_version": "1.5.0",
       "_model_name": "HBoxModel",
       "_view_count": null,
       "_view_module": "@jupyter-widgets/controls",
       "_view_module_version": "1.5.0",
       "_view_name": "HBoxView",
       "box_style": "",
       "children": [
        "IPY_MODEL_bebb3015e58c467e913f3ab423f53d24",
        "IPY_MODEL_06219a0a1ab74f8b823a29ad9acd4e04"
       ],
       "layout": "IPY_MODEL_38d9472ac8104dbc81a441c73be063dd"
      }
     },
     "4a7d7cd2b9f9484b97a5bb3d89ffd434": {
      "model_module": "@jupyter-widgets/controls",
      "model_module_version": "1.5.0",
      "model_name": "DescriptionStyleModel",
      "state": {
       "_model_module": "@jupyter-widgets/controls",
       "_model_module_version": "1.5.0",
       "_model_name": "DescriptionStyleModel",
       "_view_count": null,
       "_view_module": "@jupyter-widgets/base",
       "_view_module_version": "1.2.0",
       "_view_name": "StyleView",
       "description_width": ""
      }
     },
     "4ae95234c9d74ddd8fe9b045a6162d6e": {
      "model_module": "@jupyter-widgets/base",
      "model_module_version": "1.2.0",
      "model_name": "LayoutModel",
      "state": {
       "_model_module": "@jupyter-widgets/base",
       "_model_module_version": "1.2.0",
       "_model_name": "LayoutModel",
       "_view_count": null,
       "_view_module": "@jupyter-widgets/base",
       "_view_module_version": "1.2.0",
       "_view_name": "LayoutView",
       "align_content": null,
       "align_items": null,
       "align_self": null,
       "border": null,
       "bottom": null,
       "display": null,
       "flex": null,
       "flex_flow": null,
       "grid_area": null,
       "grid_auto_columns": null,
       "grid_auto_flow": null,
       "grid_auto_rows": null,
       "grid_column": null,
       "grid_gap": null,
       "grid_row": null,
       "grid_template_areas": null,
       "grid_template_columns": null,
       "grid_template_rows": null,
       "height": null,
       "justify_content": null,
       "justify_items": null,
       "left": null,
       "margin": null,
       "max_height": null,
       "max_width": null,
       "min_height": null,
       "min_width": null,
       "object_fit": null,
       "object_position": null,
       "order": null,
       "overflow": null,
       "overflow_x": null,
       "overflow_y": null,
       "padding": null,
       "right": null,
       "top": null,
       "visibility": null,
       "width": null
      }
     },
     "4d6884fd80eb4fe59072744790c83563": {
      "model_module": "@jupyter-widgets/controls",
      "model_module_version": "1.5.0",
      "model_name": "HTMLModel",
      "state": {
       "_dom_classes": [],
       "_model_module": "@jupyter-widgets/controls",
       "_model_module_version": "1.5.0",
       "_model_name": "HTMLModel",
       "_view_count": null,
       "_view_module": "@jupyter-widgets/controls",
       "_view_module_version": "1.5.0",
       "_view_name": "HTMLView",
       "description": "",
       "description_tooltip": null,
       "layout": "IPY_MODEL_c0025ef28e584f11aec559f591bc7812",
       "placeholder": "​",
       "style": "IPY_MODEL_040c281cdec849d9a7b6a5b091923940",
       "value": " 3/3 [00:00&lt;00:00, 48.00it/s]"
      }
     },
     "4ee7ba1fde5946e5937131db415d24cb": {
      "model_module": "@jupyter-widgets/controls",
      "model_module_version": "1.5.0",
      "model_name": "HBoxModel",
      "state": {
       "_dom_classes": [],
       "_model_module": "@jupyter-widgets/controls",
       "_model_module_version": "1.5.0",
       "_model_name": "HBoxModel",
       "_view_count": null,
       "_view_module": "@jupyter-widgets/controls",
       "_view_module_version": "1.5.0",
       "_view_name": "HBoxView",
       "box_style": "",
       "children": [
        "IPY_MODEL_91e3dfc4e6654ffb8de2868c7590db04",
        "IPY_MODEL_b2d613b86c844776b491ae2b5c38c5e3"
       ],
       "layout": "IPY_MODEL_08094da6410c419cbe827ac79812b53f"
      }
     },
     "5884bafb18284d6db898247ad9e7ade0": {
      "model_module": "@jupyter-widgets/base",
      "model_module_version": "1.2.0",
      "model_name": "LayoutModel",
      "state": {
       "_model_module": "@jupyter-widgets/base",
       "_model_module_version": "1.2.0",
       "_model_name": "LayoutModel",
       "_view_count": null,
       "_view_module": "@jupyter-widgets/base",
       "_view_module_version": "1.2.0",
       "_view_name": "LayoutView",
       "align_content": null,
       "align_items": null,
       "align_self": null,
       "border": null,
       "bottom": null,
       "display": null,
       "flex": null,
       "flex_flow": null,
       "grid_area": null,
       "grid_auto_columns": null,
       "grid_auto_flow": null,
       "grid_auto_rows": null,
       "grid_column": null,
       "grid_gap": null,
       "grid_row": null,
       "grid_template_areas": null,
       "grid_template_columns": null,
       "grid_template_rows": null,
       "height": null,
       "justify_content": null,
       "justify_items": null,
       "left": null,
       "margin": null,
       "max_height": null,
       "max_width": null,
       "min_height": null,
       "min_width": null,
       "object_fit": null,
       "object_position": null,
       "order": null,
       "overflow": null,
       "overflow_x": null,
       "overflow_y": null,
       "padding": null,
       "right": null,
       "top": null,
       "visibility": null,
       "width": null
      }
     },
     "633acb74cbf84fe3b810a1baef1d7e75": {
      "model_module": "@jupyter-widgets/base",
      "model_module_version": "1.2.0",
      "model_name": "LayoutModel",
      "state": {
       "_model_module": "@jupyter-widgets/base",
       "_model_module_version": "1.2.0",
       "_model_name": "LayoutModel",
       "_view_count": null,
       "_view_module": "@jupyter-widgets/base",
       "_view_module_version": "1.2.0",
       "_view_name": "LayoutView",
       "align_content": null,
       "align_items": null,
       "align_self": null,
       "border": null,
       "bottom": null,
       "display": null,
       "flex": null,
       "flex_flow": null,
       "grid_area": null,
       "grid_auto_columns": null,
       "grid_auto_flow": null,
       "grid_auto_rows": null,
       "grid_column": null,
       "grid_gap": null,
       "grid_row": null,
       "grid_template_areas": null,
       "grid_template_columns": null,
       "grid_template_rows": null,
       "height": null,
       "justify_content": null,
       "justify_items": null,
       "left": null,
       "margin": null,
       "max_height": null,
       "max_width": null,
       "min_height": null,
       "min_width": null,
       "object_fit": null,
       "object_position": null,
       "order": null,
       "overflow": null,
       "overflow_x": null,
       "overflow_y": null,
       "padding": null,
       "right": null,
       "top": null,
       "visibility": null,
       "width": null
      }
     },
     "63fcedeef7f943169bab3ccb4aa8e24d": {
      "model_module": "@jupyter-widgets/controls",
      "model_module_version": "1.5.0",
      "model_name": "DescriptionStyleModel",
      "state": {
       "_model_module": "@jupyter-widgets/controls",
       "_model_module_version": "1.5.0",
       "_model_name": "DescriptionStyleModel",
       "_view_count": null,
       "_view_module": "@jupyter-widgets/base",
       "_view_module_version": "1.2.0",
       "_view_name": "StyleView",
       "description_width": ""
      }
     },
     "68fe7c5f0aaa46b3b96ccfe05b170dd4": {
      "model_module": "@jupyter-widgets/controls",
      "model_module_version": "1.5.0",
      "model_name": "HBoxModel",
      "state": {
       "_dom_classes": [],
       "_model_module": "@jupyter-widgets/controls",
       "_model_module_version": "1.5.0",
       "_model_name": "HBoxModel",
       "_view_count": null,
       "_view_module": "@jupyter-widgets/controls",
       "_view_module_version": "1.5.0",
       "_view_name": "HBoxView",
       "box_style": "",
       "children": [
        "IPY_MODEL_de6dba0bcca54f669138db11e7fecdcb",
        "IPY_MODEL_0ca89859023f4c13b3f1bc131eb80230"
       ],
       "layout": "IPY_MODEL_41a80bf199f94f8bbc2ee0b0d8940fab"
      }
     },
     "81ba1041671e4ebf90a7dd28bbee5ade": {
      "model_module": "@jupyter-widgets/controls",
      "model_module_version": "1.5.0",
      "model_name": "FloatProgressModel",
      "state": {
       "_dom_classes": [],
       "_model_module": "@jupyter-widgets/controls",
       "_model_module_version": "1.5.0",
       "_model_name": "FloatProgressModel",
       "_view_count": null,
       "_view_module": "@jupyter-widgets/controls",
       "_view_module_version": "1.5.0",
       "_view_name": "ProgressView",
       "bar_style": "success",
       "description": "package: 100%",
       "description_tooltip": null,
       "layout": "IPY_MODEL_a83c8f77935d46d693fc1f9530567fce",
       "max": 1,
       "min": 0,
       "orientation": "horizontal",
       "style": "IPY_MODEL_e1fe2b673e7045c28a2bdaf505c9d36f",
       "value": 1
      }
     },
     "87ebb9d91f8a419c9d2a727541c348d2": {
      "model_module": "@jupyter-widgets/base",
      "model_module_version": "1.2.0",
      "model_name": "LayoutModel",
      "state": {
       "_model_module": "@jupyter-widgets/base",
       "_model_module_version": "1.2.0",
       "_model_name": "LayoutModel",
       "_view_count": null,
       "_view_module": "@jupyter-widgets/base",
       "_view_module_version": "1.2.0",
       "_view_name": "LayoutView",
       "align_content": null,
       "align_items": null,
       "align_self": null,
       "border": null,
       "bottom": null,
       "display": null,
       "flex": null,
       "flex_flow": null,
       "grid_area": null,
       "grid_auto_columns": null,
       "grid_auto_flow": null,
       "grid_auto_rows": null,
       "grid_column": null,
       "grid_gap": null,
       "grid_row": null,
       "grid_template_areas": null,
       "grid_template_columns": null,
       "grid_template_rows": null,
       "height": null,
       "justify_content": null,
       "justify_items": null,
       "left": null,
       "margin": null,
       "max_height": null,
       "max_width": null,
       "min_height": null,
       "min_width": null,
       "object_fit": null,
       "object_position": null,
       "order": null,
       "overflow": null,
       "overflow_x": null,
       "overflow_y": null,
       "padding": null,
       "right": null,
       "top": null,
       "visibility": null,
       "width": null
      }
     },
     "915b93a5c9b1409497a2f63ff0b6bd99": {
      "model_module": "@jupyter-widgets/base",
      "model_module_version": "1.2.0",
      "model_name": "LayoutModel",
      "state": {
       "_model_module": "@jupyter-widgets/base",
       "_model_module_version": "1.2.0",
       "_model_name": "LayoutModel",
       "_view_count": null,
       "_view_module": "@jupyter-widgets/base",
       "_view_module_version": "1.2.0",
       "_view_name": "LayoutView",
       "align_content": null,
       "align_items": null,
       "align_self": null,
       "border": null,
       "bottom": null,
       "display": null,
       "flex": null,
       "flex_flow": null,
       "grid_area": null,
       "grid_auto_columns": null,
       "grid_auto_flow": null,
       "grid_auto_rows": null,
       "grid_column": null,
       "grid_gap": null,
       "grid_row": null,
       "grid_template_areas": null,
       "grid_template_columns": null,
       "grid_template_rows": null,
       "height": null,
       "justify_content": null,
       "justify_items": null,
       "left": null,
       "margin": null,
       "max_height": null,
       "max_width": null,
       "min_height": null,
       "min_width": null,
       "object_fit": null,
       "object_position": null,
       "order": null,
       "overflow": null,
       "overflow_x": null,
       "overflow_y": null,
       "padding": null,
       "right": null,
       "top": null,
       "visibility": null,
       "width": null
      }
     },
     "91e3dfc4e6654ffb8de2868c7590db04": {
      "model_module": "@jupyter-widgets/controls",
      "model_module_version": "1.5.0",
      "model_name": "FloatProgressModel",
      "state": {
       "_dom_classes": [],
       "_model_module": "@jupyter-widgets/controls",
       "_model_module_version": "1.5.0",
       "_model_name": "FloatProgressModel",
       "_view_count": null,
       "_view_module": "@jupyter-widgets/controls",
       "_view_module_version": "1.5.0",
       "_view_name": "ProgressView",
       "bar_style": "success",
       "description": "missing [dendrogram]: 100%",
       "description_tooltip": null,
       "layout": "IPY_MODEL_fd6ca66262c44feca3c2c64bdf585551",
       "max": 4,
       "min": 0,
       "orientation": "horizontal",
       "style": "IPY_MODEL_d845da0c34e24adfbe4877fdcee0460f",
       "value": 4
      }
     },
     "965769e91d944e02a59acb25d630a842": {
      "model_module": "@jupyter-widgets/base",
      "model_module_version": "1.2.0",
      "model_name": "LayoutModel",
      "state": {
       "_model_module": "@jupyter-widgets/base",
       "_model_module_version": "1.2.0",
       "_model_name": "LayoutModel",
       "_view_count": null,
       "_view_module": "@jupyter-widgets/base",
       "_view_module_version": "1.2.0",
       "_view_name": "LayoutView",
       "align_content": null,
       "align_items": null,
       "align_self": null,
       "border": null,
       "bottom": null,
       "display": null,
       "flex": null,
       "flex_flow": null,
       "grid_area": null,
       "grid_auto_columns": null,
       "grid_auto_flow": null,
       "grid_auto_rows": null,
       "grid_column": null,
       "grid_gap": null,
       "grid_row": null,
       "grid_template_areas": null,
       "grid_template_columns": null,
       "grid_template_rows": null,
       "height": null,
       "justify_content": null,
       "justify_items": null,
       "left": null,
       "margin": null,
       "max_height": null,
       "max_width": null,
       "min_height": null,
       "min_width": null,
       "object_fit": null,
       "object_position": null,
       "order": null,
       "overflow": null,
       "overflow_x": null,
       "overflow_y": null,
       "padding": null,
       "right": null,
       "top": null,
       "visibility": null,
       "width": null
      }
     },
     "98134428de8e4fda890108a04e08853a": {
      "model_module": "@jupyter-widgets/base",
      "model_module_version": "1.2.0",
      "model_name": "LayoutModel",
      "state": {
       "_model_module": "@jupyter-widgets/base",
       "_model_module_version": "1.2.0",
       "_model_name": "LayoutModel",
       "_view_count": null,
       "_view_module": "@jupyter-widgets/base",
       "_view_module_version": "1.2.0",
       "_view_name": "LayoutView",
       "align_content": null,
       "align_items": null,
       "align_self": null,
       "border": null,
       "bottom": null,
       "display": null,
       "flex": null,
       "flex_flow": null,
       "grid_area": null,
       "grid_auto_columns": null,
       "grid_auto_flow": null,
       "grid_auto_rows": null,
       "grid_column": null,
       "grid_gap": null,
       "grid_row": null,
       "grid_template_areas": null,
       "grid_template_columns": null,
       "grid_template_rows": null,
       "height": null,
       "justify_content": null,
       "justify_items": null,
       "left": null,
       "margin": null,
       "max_height": null,
       "max_width": null,
       "min_height": null,
       "min_width": null,
       "object_fit": null,
       "object_position": null,
       "order": null,
       "overflow": null,
       "overflow_x": null,
       "overflow_y": null,
       "padding": null,
       "right": null,
       "top": null,
       "visibility": null,
       "width": null
      }
     },
     "99a0f77cbae44179b8dc9543d9a7db98": {
      "model_module": "@jupyter-widgets/base",
      "model_module_version": "1.2.0",
      "model_name": "LayoutModel",
      "state": {
       "_model_module": "@jupyter-widgets/base",
       "_model_module_version": "1.2.0",
       "_model_name": "LayoutModel",
       "_view_count": null,
       "_view_module": "@jupyter-widgets/base",
       "_view_module_version": "1.2.0",
       "_view_name": "LayoutView",
       "align_content": null,
       "align_items": null,
       "align_self": null,
       "border": null,
       "bottom": null,
       "display": null,
       "flex": null,
       "flex_flow": null,
       "grid_area": null,
       "grid_auto_columns": null,
       "grid_auto_flow": null,
       "grid_auto_rows": null,
       "grid_column": null,
       "grid_gap": null,
       "grid_row": null,
       "grid_template_areas": null,
       "grid_template_columns": null,
       "grid_template_rows": null,
       "height": null,
       "justify_content": null,
       "justify_items": null,
       "left": null,
       "margin": null,
       "max_height": null,
       "max_width": null,
       "min_height": null,
       "min_width": null,
       "object_fit": null,
       "object_position": null,
       "order": null,
       "overflow": null,
       "overflow_x": null,
       "overflow_y": null,
       "padding": null,
       "right": null,
       "top": null,
       "visibility": null,
       "width": null
      }
     },
     "9bbf50585a6c4e07a19a9b5035dc0b97": {
      "model_module": "@jupyter-widgets/base",
      "model_module_version": "1.2.0",
      "model_name": "LayoutModel",
      "state": {
       "_model_module": "@jupyter-widgets/base",
       "_model_module_version": "1.2.0",
       "_model_name": "LayoutModel",
       "_view_count": null,
       "_view_module": "@jupyter-widgets/base",
       "_view_module_version": "1.2.0",
       "_view_name": "LayoutView",
       "align_content": null,
       "align_items": null,
       "align_self": null,
       "border": null,
       "bottom": null,
       "display": null,
       "flex": null,
       "flex_flow": null,
       "grid_area": null,
       "grid_auto_columns": null,
       "grid_auto_flow": null,
       "grid_auto_rows": null,
       "grid_column": null,
       "grid_gap": null,
       "grid_row": null,
       "grid_template_areas": null,
       "grid_template_columns": null,
       "grid_template_rows": null,
       "height": null,
       "justify_content": null,
       "justify_items": null,
       "left": null,
       "margin": null,
       "max_height": null,
       "max_width": null,
       "min_height": null,
       "min_width": null,
       "object_fit": null,
       "object_position": null,
       "order": null,
       "overflow": null,
       "overflow_x": null,
       "overflow_y": null,
       "padding": null,
       "right": null,
       "top": null,
       "visibility": null,
       "width": null
      }
     },
     "9cddb6ed870d41179805d5bf6df3fa6a": {
      "model_module": "@jupyter-widgets/controls",
      "model_module_version": "1.5.0",
      "model_name": "HBoxModel",
      "state": {
       "_dom_classes": [],
       "_model_module": "@jupyter-widgets/controls",
       "_model_module_version": "1.5.0",
       "_model_name": "HBoxModel",
       "_view_count": null,
       "_view_module": "@jupyter-widgets/controls",
       "_view_module_version": "1.5.0",
       "_view_name": "HBoxView",
       "box_style": "",
       "children": [
        "IPY_MODEL_81ba1041671e4ebf90a7dd28bbee5ade",
        "IPY_MODEL_44b99b9190b046f9bf4da48da9625364"
       ],
       "layout": "IPY_MODEL_df5e7092ab5c40708d1242e2e2e44802"
      }
     },
     "a83c8f77935d46d693fc1f9530567fce": {
      "model_module": "@jupyter-widgets/base",
      "model_module_version": "1.2.0",
      "model_name": "LayoutModel",
      "state": {
       "_model_module": "@jupyter-widgets/base",
       "_model_module_version": "1.2.0",
       "_model_name": "LayoutModel",
       "_view_count": null,
       "_view_module": "@jupyter-widgets/base",
       "_view_module_version": "1.2.0",
       "_view_name": "LayoutView",
       "align_content": null,
       "align_items": null,
       "align_self": null,
       "border": null,
       "bottom": null,
       "display": null,
       "flex": null,
       "flex_flow": null,
       "grid_area": null,
       "grid_auto_columns": null,
       "grid_auto_flow": null,
       "grid_auto_rows": null,
       "grid_column": null,
       "grid_gap": null,
       "grid_row": null,
       "grid_template_areas": null,
       "grid_template_columns": null,
       "grid_template_rows": null,
       "height": null,
       "justify_content": null,
       "justify_items": null,
       "left": null,
       "margin": null,
       "max_height": null,
       "max_width": null,
       "min_height": null,
       "min_width": null,
       "object_fit": null,
       "object_position": null,
       "order": null,
       "overflow": null,
       "overflow_x": null,
       "overflow_y": null,
       "padding": null,
       "right": null,
       "top": null,
       "visibility": null,
       "width": null
      }
     },
     "abc4a7c322994322aa785081e32e41d6": {
      "model_module": "@jupyter-widgets/controls",
      "model_module_version": "1.5.0",
      "model_name": "FloatProgressModel",
      "state": {
       "_dom_classes": [],
       "_model_module": "@jupyter-widgets/controls",
       "_model_module_version": "1.5.0",
       "_model_name": "FloatProgressModel",
       "_view_count": null,
       "_view_module": "@jupyter-widgets/controls",
       "_view_module_version": "1.5.0",
       "_view_name": "ProgressView",
       "bar_style": "success",
       "description": "variables: 100%",
       "description_tooltip": null,
       "layout": "IPY_MODEL_195d6e7e59d04ed695283d5008833118",
       "max": 12,
       "min": 0,
       "orientation": "horizontal",
       "style": "IPY_MODEL_0d4724a92f484cc5af4d660a25d11653",
       "value": 12
      }
     },
     "ac9d87536bb94cdbafc206ea8f296f30": {
      "model_module": "@jupyter-widgets/base",
      "model_module_version": "1.2.0",
      "model_name": "LayoutModel",
      "state": {
       "_model_module": "@jupyter-widgets/base",
       "_model_module_version": "1.2.0",
       "_model_name": "LayoutModel",
       "_view_count": null,
       "_view_module": "@jupyter-widgets/base",
       "_view_module_version": "1.2.0",
       "_view_name": "LayoutView",
       "align_content": null,
       "align_items": null,
       "align_self": null,
       "border": null,
       "bottom": null,
       "display": null,
       "flex": null,
       "flex_flow": null,
       "grid_area": null,
       "grid_auto_columns": null,
       "grid_auto_flow": null,
       "grid_auto_rows": null,
       "grid_column": null,
       "grid_gap": null,
       "grid_row": null,
       "grid_template_areas": null,
       "grid_template_columns": null,
       "grid_template_rows": null,
       "height": null,
       "justify_content": null,
       "justify_items": null,
       "left": null,
       "margin": null,
       "max_height": null,
       "max_width": null,
       "min_height": null,
       "min_width": null,
       "object_fit": null,
       "object_position": null,
       "order": null,
       "overflow": null,
       "overflow_x": null,
       "overflow_y": null,
       "padding": null,
       "right": null,
       "top": null,
       "visibility": null,
       "width": null
      }
     },
     "b2d613b86c844776b491ae2b5c38c5e3": {
      "model_module": "@jupyter-widgets/controls",
      "model_module_version": "1.5.0",
      "model_name": "HTMLModel",
      "state": {
       "_dom_classes": [],
       "_model_module": "@jupyter-widgets/controls",
       "_model_module_version": "1.5.0",
       "_model_name": "HTMLModel",
       "_view_count": null,
       "_view_module": "@jupyter-widgets/controls",
       "_view_module_version": "1.5.0",
       "_view_name": "HTMLView",
       "description": "",
       "description_tooltip": null,
       "layout": "IPY_MODEL_b5fd2d6ca5574da4a8c3bf14c7b3dbf5",
       "placeholder": "​",
       "style": "IPY_MODEL_63fcedeef7f943169bab3ccb4aa8e24d",
       "value": " 4/4 [00:01&lt;00:00,  2.10it/s]"
      }
     },
     "b5fd2d6ca5574da4a8c3bf14c7b3dbf5": {
      "model_module": "@jupyter-widgets/base",
      "model_module_version": "1.2.0",
      "model_name": "LayoutModel",
      "state": {
       "_model_module": "@jupyter-widgets/base",
       "_model_module_version": "1.2.0",
       "_model_name": "LayoutModel",
       "_view_count": null,
       "_view_module": "@jupyter-widgets/base",
       "_view_module_version": "1.2.0",
       "_view_name": "LayoutView",
       "align_content": null,
       "align_items": null,
       "align_self": null,
       "border": null,
       "bottom": null,
       "display": null,
       "flex": null,
       "flex_flow": null,
       "grid_area": null,
       "grid_auto_columns": null,
       "grid_auto_flow": null,
       "grid_auto_rows": null,
       "grid_column": null,
       "grid_gap": null,
       "grid_row": null,
       "grid_template_areas": null,
       "grid_template_columns": null,
       "grid_template_rows": null,
       "height": null,
       "justify_content": null,
       "justify_items": null,
       "left": null,
       "margin": null,
       "max_height": null,
       "max_width": null,
       "min_height": null,
       "min_width": null,
       "object_fit": null,
       "object_position": null,
       "order": null,
       "overflow": null,
       "overflow_x": null,
       "overflow_y": null,
       "padding": null,
       "right": null,
       "top": null,
       "visibility": null,
       "width": null
      }
     },
     "b70dac66791d48cca899e7046fd3975a": {
      "model_module": "@jupyter-widgets/controls",
      "model_module_version": "1.5.0",
      "model_name": "FloatProgressModel",
      "state": {
       "_dom_classes": [],
       "_model_module": "@jupyter-widgets/controls",
       "_model_module_version": "1.5.0",
       "_model_name": "FloatProgressModel",
       "_view_count": null,
       "_view_module": "@jupyter-widgets/controls",
       "_view_module_version": "1.5.0",
       "_view_name": "ProgressView",
       "bar_style": "success",
       "description": "warnings [correlations]: 100%",
       "description_tooltip": null,
       "layout": "IPY_MODEL_4ae95234c9d74ddd8fe9b045a6162d6e",
       "max": 3,
       "min": 0,
       "orientation": "horizontal",
       "style": "IPY_MODEL_19ee6640e96a41778a739cef07506941",
       "value": 3
      }
     },
     "b96c2841a74c418f93c9cb3367e1bae4": {
      "model_module": "@jupyter-widgets/controls",
      "model_module_version": "1.5.0",
      "model_name": "ProgressStyleModel",
      "state": {
       "_model_module": "@jupyter-widgets/controls",
       "_model_module_version": "1.5.0",
       "_model_name": "ProgressStyleModel",
       "_view_count": null,
       "_view_module": "@jupyter-widgets/base",
       "_view_module_version": "1.2.0",
       "_view_name": "StyleView",
       "bar_color": null,
       "description_width": "initial"
      }
     },
     "bebb3015e58c467e913f3ab423f53d24": {
      "model_module": "@jupyter-widgets/controls",
      "model_module_version": "1.5.0",
      "model_name": "FloatProgressModel",
      "state": {
       "_dom_classes": [],
       "_model_module": "@jupyter-widgets/controls",
       "_model_module_version": "1.5.0",
       "_model_name": "FloatProgressModel",
       "_view_count": null,
       "_view_module": "@jupyter-widgets/controls",
       "_view_module_version": "1.5.0",
       "_view_name": "ProgressView",
       "bar_style": "success",
       "description": "interactions [continuous]: 100%",
       "description_tooltip": null,
       "layout": "IPY_MODEL_9bbf50585a6c4e07a19a9b5035dc0b97",
       "max": 1,
       "min": 0,
       "orientation": "horizontal",
       "style": "IPY_MODEL_c58933f460504908939d4b8eaca6d60e",
       "value": 1
      }
     },
     "c0025ef28e584f11aec559f591bc7812": {
      "model_module": "@jupyter-widgets/base",
      "model_module_version": "1.2.0",
      "model_name": "LayoutModel",
      "state": {
       "_model_module": "@jupyter-widgets/base",
       "_model_module_version": "1.2.0",
       "_model_name": "LayoutModel",
       "_view_count": null,
       "_view_module": "@jupyter-widgets/base",
       "_view_module_version": "1.2.0",
       "_view_name": "LayoutView",
       "align_content": null,
       "align_items": null,
       "align_self": null,
       "border": null,
       "bottom": null,
       "display": null,
       "flex": null,
       "flex_flow": null,
       "grid_area": null,
       "grid_auto_columns": null,
       "grid_auto_flow": null,
       "grid_auto_rows": null,
       "grid_column": null,
       "grid_gap": null,
       "grid_row": null,
       "grid_template_areas": null,
       "grid_template_columns": null,
       "grid_template_rows": null,
       "height": null,
       "justify_content": null,
       "justify_items": null,
       "left": null,
       "margin": null,
       "max_height": null,
       "max_width": null,
       "min_height": null,
       "min_width": null,
       "object_fit": null,
       "object_position": null,
       "order": null,
       "overflow": null,
       "overflow_x": null,
       "overflow_y": null,
       "padding": null,
       "right": null,
       "top": null,
       "visibility": null,
       "width": null
      }
     },
     "c58933f460504908939d4b8eaca6d60e": {
      "model_module": "@jupyter-widgets/controls",
      "model_module_version": "1.5.0",
      "model_name": "ProgressStyleModel",
      "state": {
       "_model_module": "@jupyter-widgets/controls",
       "_model_module_version": "1.5.0",
       "_model_name": "ProgressStyleModel",
       "_view_count": null,
       "_view_module": "@jupyter-widgets/base",
       "_view_module_version": "1.2.0",
       "_view_name": "StyleView",
       "bar_color": null,
       "description_width": "initial"
      }
     },
     "cf8abb7bae0b42a09a8d43ab0b2734c9": {
      "model_module": "@jupyter-widgets/controls",
      "model_module_version": "1.5.0",
      "model_name": "HBoxModel",
      "state": {
       "_dom_classes": [],
       "_model_module": "@jupyter-widgets/controls",
       "_model_module_version": "1.5.0",
       "_model_name": "HBoxModel",
       "_view_count": null,
       "_view_module": "@jupyter-widgets/controls",
       "_view_module_version": "1.5.0",
       "_view_name": "HBoxView",
       "box_style": "",
       "children": [
        "IPY_MODEL_3913e7f0f4ef46688e1815f0ae897d5f",
        "IPY_MODEL_0a8cb4fdbf2346de99a759bab589f858"
       ],
       "layout": "IPY_MODEL_1b6d0c9f9f314e2c9402a2848227cc25"
      }
     },
     "d845da0c34e24adfbe4877fdcee0460f": {
      "model_module": "@jupyter-widgets/controls",
      "model_module_version": "1.5.0",
      "model_name": "ProgressStyleModel",
      "state": {
       "_model_module": "@jupyter-widgets/controls",
       "_model_module_version": "1.5.0",
       "_model_name": "ProgressStyleModel",
       "_view_count": null,
       "_view_module": "@jupyter-widgets/base",
       "_view_module_version": "1.2.0",
       "_view_name": "StyleView",
       "bar_color": null,
       "description_width": "initial"
      }
     },
     "de6dba0bcca54f669138db11e7fecdcb": {
      "model_module": "@jupyter-widgets/controls",
      "model_module_version": "1.5.0",
      "model_name": "FloatProgressModel",
      "state": {
       "_dom_classes": [],
       "_model_module": "@jupyter-widgets/controls",
       "_model_module_version": "1.5.0",
       "_model_name": "FloatProgressModel",
       "_view_count": null,
       "_view_module": "@jupyter-widgets/controls",
       "_view_module_version": "1.5.0",
       "_view_name": "ProgressView",
       "bar_style": "success",
       "description": "table: 100%",
       "description_tooltip": null,
       "layout": "IPY_MODEL_0ee9d084e88f41e7a641ced56f37da71",
       "max": 1,
       "min": 0,
       "orientation": "horizontal",
       "style": "IPY_MODEL_218325c344464c9c894e5afbeb686e5d",
       "value": 1
      }
     },
     "df5e7092ab5c40708d1242e2e2e44802": {
      "model_module": "@jupyter-widgets/base",
      "model_module_version": "1.2.0",
      "model_name": "LayoutModel",
      "state": {
       "_model_module": "@jupyter-widgets/base",
       "_model_module_version": "1.2.0",
       "_model_name": "LayoutModel",
       "_view_count": null,
       "_view_module": "@jupyter-widgets/base",
       "_view_module_version": "1.2.0",
       "_view_name": "LayoutView",
       "align_content": null,
       "align_items": null,
       "align_self": null,
       "border": null,
       "bottom": null,
       "display": null,
       "flex": null,
       "flex_flow": null,
       "grid_area": null,
       "grid_auto_columns": null,
       "grid_auto_flow": null,
       "grid_auto_rows": null,
       "grid_column": null,
       "grid_gap": null,
       "grid_row": null,
       "grid_template_areas": null,
       "grid_template_columns": null,
       "grid_template_rows": null,
       "height": null,
       "justify_content": null,
       "justify_items": null,
       "left": null,
       "margin": null,
       "max_height": null,
       "max_width": null,
       "min_height": null,
       "min_width": null,
       "object_fit": null,
       "object_position": null,
       "order": null,
       "overflow": null,
       "overflow_x": null,
       "overflow_y": null,
       "padding": null,
       "right": null,
       "top": null,
       "visibility": null,
       "width": null
      }
     },
     "e0264cf9db7b447e8c44dba01d586ca0": {
      "model_module": "@jupyter-widgets/base",
      "model_module_version": "1.2.0",
      "model_name": "LayoutModel",
      "state": {
       "_model_module": "@jupyter-widgets/base",
       "_model_module_version": "1.2.0",
       "_model_name": "LayoutModel",
       "_view_count": null,
       "_view_module": "@jupyter-widgets/base",
       "_view_module_version": "1.2.0",
       "_view_name": "LayoutView",
       "align_content": null,
       "align_items": null,
       "align_self": null,
       "border": null,
       "bottom": null,
       "display": null,
       "flex": null,
       "flex_flow": null,
       "grid_area": null,
       "grid_auto_columns": null,
       "grid_auto_flow": null,
       "grid_auto_rows": null,
       "grid_column": null,
       "grid_gap": null,
       "grid_row": null,
       "grid_template_areas": null,
       "grid_template_columns": null,
       "grid_template_rows": null,
       "height": null,
       "justify_content": null,
       "justify_items": null,
       "left": null,
       "margin": null,
       "max_height": null,
       "max_width": null,
       "min_height": null,
       "min_width": null,
       "object_fit": null,
       "object_position": null,
       "order": null,
       "overflow": null,
       "overflow_x": null,
       "overflow_y": null,
       "padding": null,
       "right": null,
       "top": null,
       "visibility": null,
       "width": null
      }
     },
     "e066b2971fa244989cec37232db718c7": {
      "model_module": "@jupyter-widgets/controls",
      "model_module_version": "1.5.0",
      "model_name": "HBoxModel",
      "state": {
       "_dom_classes": [],
       "_model_module": "@jupyter-widgets/controls",
       "_model_module_version": "1.5.0",
       "_model_name": "HBoxModel",
       "_view_count": null,
       "_view_module": "@jupyter-widgets/controls",
       "_view_module_version": "1.5.0",
       "_view_name": "HBoxView",
       "box_style": "",
       "children": [
        "IPY_MODEL_abc4a7c322994322aa785081e32e41d6",
        "IPY_MODEL_27eeb3a2678b49cb97ecd85c6aed4379"
       ],
       "layout": "IPY_MODEL_0c06edf14b274dec90ce22dd00dd631b"
      }
     },
     "e1fe2b673e7045c28a2bdaf505c9d36f": {
      "model_module": "@jupyter-widgets/controls",
      "model_module_version": "1.5.0",
      "model_name": "ProgressStyleModel",
      "state": {
       "_model_module": "@jupyter-widgets/controls",
       "_model_module_version": "1.5.0",
       "_model_name": "ProgressStyleModel",
       "_view_count": null,
       "_view_module": "@jupyter-widgets/base",
       "_view_module_version": "1.2.0",
       "_view_name": "StyleView",
       "bar_color": null,
       "description_width": "initial"
      }
     },
     "e8f2af4dfc2f488184afe109f28de828": {
      "model_module": "@jupyter-widgets/controls",
      "model_module_version": "1.5.0",
      "model_name": "DescriptionStyleModel",
      "state": {
       "_model_module": "@jupyter-widgets/controls",
       "_model_module_version": "1.5.0",
       "_model_name": "DescriptionStyleModel",
       "_view_count": null,
       "_view_module": "@jupyter-widgets/base",
       "_view_module_version": "1.2.0",
       "_view_name": "StyleView",
       "description_width": ""
      }
     },
     "edad4b7567c943ef9cd47f58ef7c515c": {
      "model_module": "@jupyter-widgets/base",
      "model_module_version": "1.2.0",
      "model_name": "LayoutModel",
      "state": {
       "_model_module": "@jupyter-widgets/base",
       "_model_module_version": "1.2.0",
       "_model_name": "LayoutModel",
       "_view_count": null,
       "_view_module": "@jupyter-widgets/base",
       "_view_module_version": "1.2.0",
       "_view_name": "LayoutView",
       "align_content": null,
       "align_items": null,
       "align_self": null,
       "border": null,
       "bottom": null,
       "display": null,
       "flex": null,
       "flex_flow": null,
       "grid_area": null,
       "grid_auto_columns": null,
       "grid_auto_flow": null,
       "grid_auto_rows": null,
       "grid_column": null,
       "grid_gap": null,
       "grid_row": null,
       "grid_template_areas": null,
       "grid_template_columns": null,
       "grid_template_rows": null,
       "height": null,
       "justify_content": null,
       "justify_items": null,
       "left": null,
       "margin": null,
       "max_height": null,
       "max_width": null,
       "min_height": null,
       "min_width": null,
       "object_fit": null,
       "object_position": null,
       "order": null,
       "overflow": null,
       "overflow_x": null,
       "overflow_y": null,
       "padding": null,
       "right": null,
       "top": null,
       "visibility": null,
       "width": null
      }
     },
     "fd6ca66262c44feca3c2c64bdf585551": {
      "model_module": "@jupyter-widgets/base",
      "model_module_version": "1.2.0",
      "model_name": "LayoutModel",
      "state": {
       "_model_module": "@jupyter-widgets/base",
       "_model_module_version": "1.2.0",
       "_model_name": "LayoutModel",
       "_view_count": null,
       "_view_module": "@jupyter-widgets/base",
       "_view_module_version": "1.2.0",
       "_view_name": "LayoutView",
       "align_content": null,
       "align_items": null,
       "align_self": null,
       "border": null,
       "bottom": null,
       "display": null,
       "flex": null,
       "flex_flow": null,
       "grid_area": null,
       "grid_auto_columns": null,
       "grid_auto_flow": null,
       "grid_auto_rows": null,
       "grid_column": null,
       "grid_gap": null,
       "grid_row": null,
       "grid_template_areas": null,
       "grid_template_columns": null,
       "grid_template_rows": null,
       "height": null,
       "justify_content": null,
       "justify_items": null,
       "left": null,
       "margin": null,
       "max_height": null,
       "max_width": null,
       "min_height": null,
       "min_width": null,
       "object_fit": null,
       "object_position": null,
       "order": null,
       "overflow": null,
       "overflow_x": null,
       "overflow_y": null,
       "padding": null,
       "right": null,
       "top": null,
       "visibility": null,
       "width": null
      }
     },
     "fed4c565e6a14fcc8ecc72066596368c": {
      "model_module": "@jupyter-widgets/controls",
      "model_module_version": "1.5.0",
      "model_name": "ProgressStyleModel",
      "state": {
       "_model_module": "@jupyter-widgets/controls",
       "_model_module_version": "1.5.0",
       "_model_name": "ProgressStyleModel",
       "_view_count": null,
       "_view_module": "@jupyter-widgets/base",
       "_view_module_version": "1.2.0",
       "_view_name": "StyleView",
       "bar_color": null,
       "description_width": "initial"
      }
     }
    },
    "version_major": 2,
    "version_minor": 0
   }
  }
 },
 "nbformat": 4,
 "nbformat_minor": 4
}
