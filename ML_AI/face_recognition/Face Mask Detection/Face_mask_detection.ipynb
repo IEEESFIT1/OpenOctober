{
  "nbformat": 4,
  "nbformat_minor": 0,
  "metadata": {
    "colab": {
      "name": "Face mask detection",
      "provenance": []
    },
    "kernelspec": {
      "name": "python3",
      "display_name": "Python 3"
    },
    "language_info": {
      "name": "python"
    }
  },
  "cells": [
    {
      "cell_type": "markdown",
      "metadata": {
        "id": "Kc5Hsiba6y8D"
      },
      "source": [
        "**Importing Required Libraries**"
      ]
    },
    {
      "cell_type": "code",
      "metadata": {
        "id": "ySSsbyt-CFfC"
      },
      "source": [
        "## Importing Required Libraries\n",
        "\n",
        "import cv2\n",
        "import os\n",
        "from tensorflow.keras.preprocessing.image import img_to_array\n",
        "from tensorflow.keras.models import load_model\n",
        "from tensorflow.keras.applications.mobilenet_v2 import preprocess_input\n",
        "import numpy as np\n",
        "from matplotlib import pyplot as plt\n",
        "from google.colab.patches import cv2_imshow"
      ],
      "execution_count": null,
      "outputs": []
    },
    {
      "cell_type": "markdown",
      "metadata": {
        "id": "53pDt7P662Vq"
      },
      "source": [
        "**Importing face recognition and mask recognition models**"
      ]
    },
    {
      "cell_type": "code",
      "metadata": {
        "id": "cfzNrhLxCcAY"
      },
      "source": [
        "##Importing face recognition and mask recognition models\n",
        "\n",
        "faceCascade = cv2.CascadeClassifier(\"haarcascade_frontalface_alt2.xml\")\n",
        "model = load_model(\"mask_recog.h5\")"
      ],
      "execution_count": null,
      "outputs": []
    },
    {
      "cell_type": "markdown",
      "metadata": {
        "id": "2Oo5sDss643K"
      },
      "source": [
        "**Function to identify mask**"
      ]
    },
    {
      "cell_type": "code",
      "metadata": {
        "id": "eeOV6MAUCpdK"
      },
      "source": [
        "## Function to identify mask\n",
        "\n",
        "def face_mask_detector(frame):\n",
        "  gray = cv2.cvtColor(frame, cv2.COLOR_BGR2GRAY)\n",
        "  faces = faceCascade.detectMultiScale(gray,\n",
        "                                        scaleFactor=1.1,\n",
        "                                        minNeighbors=5,\n",
        "                                        minSize=(60, 60),\n",
        "                                        flags=cv2.CASCADE_SCALE_IMAGE)\n",
        "  faces_list=[]\n",
        "  preds=[]\n",
        "  for (x, y, w, h) in faces:\n",
        "      face_frame = frame[y:y+h,x:x+w]\n",
        "      face_frame = cv2.cvtColor(face_frame, cv2.COLOR_BGR2RGB)\n",
        "      face_frame = cv2.resize(face_frame, (224, 224))\n",
        "      face_frame = img_to_array(face_frame)\n",
        "      face_frame = np.expand_dims(face_frame, axis=0)\n",
        "      face_frame =  preprocess_input(face_frame)\n",
        "      faces_list.append(face_frame)\n",
        "      if len(faces_list)>0:\n",
        "          preds = model.predict(faces_list)\n",
        "      for pred in preds:\n",
        "          (mask, withoutMask) = pred\n",
        "      label = \"Mask\" if mask > withoutMask else \"No Mask\"\n",
        "      color = (0, 255, 0) if label == \"Mask\" else (0, 0, 255)\n",
        "      label = \"{}: {:.2f}%\".format(label, max(mask, withoutMask) * 100)\n",
        "      cv2.putText(frame, label, (x, y- 10),\n",
        "                  cv2.FONT_HERSHEY_SIMPLEX, 1, color, 2)\n",
        "\n",
        "      cv2.rectangle(frame, (x, y), (x + w, y + h),color, 3)\n",
        "  return frame"
      ],
      "execution_count": null,
      "outputs": []
    },
    {
      "cell_type": "markdown",
      "metadata": {
        "id": "W2Pfqf_E7CZ6"
      },
      "source": [
        "**Image with mask**"
      ]
    },
    {
      "cell_type": "code",
      "metadata": {
        "id": "s58ZzqmHC-uo"
      },
      "source": [
        "## Image with mask\n",
        "\n",
        "input_image = cv2.imread(\"imagemask.jpg\")\n",
        "imgResize = cv2.resize(input_image, (400,400))\n",
        "output = face_mask_detector(imgResize)\n",
        "cv2_imshow(output)"
      ],
      "execution_count": null,
      "outputs": []
    },
    {
      "cell_type": "markdown",
      "metadata": {
        "id": "EQBXEliI7GNE"
      },
      "source": [
        "** Image without mask **"
      ]
    },
    {
      "cell_type": "code",
      "metadata": {
        "id": "RrqKNtF2F0NL"
      },
      "source": [
        "## Image without mask\n",
        "\n",
        "input_image = cv2.imread(\"image.jpg\")\n",
        "imgResize = cv2.resize(input_image, (400, 400))\n",
        "output = face_mask_detector(imgResize)\n",
        "cv2_imshow(output)"
      ],
      "execution_count": null,
      "outputs": []
    }
  ]
}