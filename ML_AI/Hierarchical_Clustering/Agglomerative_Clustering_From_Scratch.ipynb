{
  "nbformat": 4,
  "nbformat_minor": 0,
  "metadata": {
    "colab": {
      "name": "Agglomerative Clustering - From Scratch.ipynb",
      "provenance": [],
      "collapsed_sections": []
    },
    "kernelspec": {
      "name": "python3",
      "display_name": "Python 3"
    },
    "language_info": {
      "name": "python"
    }
  },
  "cells": [
    {
      "cell_type": "markdown",
      "metadata": {
        "id": "1AbYMDQM1mLT"
      },
      "source": [
        "# **Agglomerative Clustering**\n",
        "### Author: [**Pranav Yadav**](https://github.com/pranav-yadav/)"
      ]
    },
    {
      "cell_type": "markdown",
      "metadata": {
        "id": "RSnlWjz_1wjU"
      },
      "source": [
        "### Import the necessary libraries"
      ]
    },
    {
      "cell_type": "code",
      "metadata": {
        "id": "WZf2nWJZ-BLQ"
      },
      "source": [
        "%matplotlib inline\n",
        "import matplotlib.pyplot as plt\n",
        "import numpy as np\n",
        "import seaborn as sns\n",
        "import scipy as sp\n",
        "from sklearn import datasets\n",
        "from sklearn.metrics.pairwise import pairwise_distances\n",
        "from numpy import linalg as LA\n",
        "import sys"
      ],
      "execution_count": null,
      "outputs": []
    },
    {
      "cell_type": "markdown",
      "metadata": {
        "id": "pKT-Uqqv174K"
      },
      "source": [
        "### Import or create the dataset"
      ]
    },
    {
      "cell_type": "code",
      "metadata": {
        "colab": {
          "base_uri": "https://localhost:8080/"
        },
        "id": "xJDgqz9l-lIn",
        "outputId": "b49b33d4-b98d-4b64-8cb3-b2b013d6f174"
      },
      "source": [
        "data = np.array([0.40, 0.53, 0.22, 0.38, 0.35, 0.32, 0.26, 0.19, 0.08, 0.41, 0.45, 0.30]).reshape(6,2)\n",
        "print('Data', data)"
      ],
      "execution_count": null,
      "outputs": [
        {
          "output_type": "stream",
          "name": "stdout",
          "text": [
            "Data [[0.4  0.53]\n",
            " [0.22 0.38]\n",
            " [0.35 0.32]\n",
            " [0.26 0.19]\n",
            " [0.08 0.41]\n",
            " [0.45 0.3 ]]\n"
          ]
        }
      ]
    },
    {
      "cell_type": "markdown",
      "metadata": {
        "id": "mdG4l5oI2E3c"
      },
      "source": [
        "### Visualize the dataset using Scatter Plot"
      ]
    },
    {
      "cell_type": "code",
      "metadata": {
        "colab": {
          "base_uri": "https://localhost:8080/",
          "height": 326
        },
        "id": "qhSrSHLcBONN",
        "outputId": "17e89ad1-8dcb-48de-fdc8-d616ef0662a9"
      },
      "source": [
        "fig = plt.figure()\n",
        "fig.suptitle('Scatter Plot for clusters')\n",
        "ax = fig.add_subplot(1,1,1)\n",
        "ax.set_xlabel('X')\n",
        "ax.set_ylabel('Y')\n",
        "ax.scatter(data[:, 0], data[:, 1])"
      ],
      "execution_count": null,
      "outputs": [
        {
          "output_type": "execute_result",
          "data": {
            "text/plain": [
              "<matplotlib.collections.PathCollection at 0x7f3d22211d50>"
            ]
          },
          "metadata": {},
          "execution_count": 3
        },
        {
          "output_type": "display_data",
          "data": {
            "image/png": "[encoded data removed]",
            "text/plain": [
              "<Figure size 432x288 with 1 Axes>"
            ]
          },
          "metadata": {
            "needs_background": "light"
          }
        }
      ]
    },
    {
      "cell_type": "markdown",
      "metadata": {
        "id": "qmhl28I52Q_c"
      },
      "source": [
        "### Define function `hierarchical_clustering`\n",
        "which calculates iniitial _distance matrix_ and calls `find_clusters` function to get the clusters and finally visualizes these clusters on sctter plot"
      ]
    },
    {
      "cell_type": "code",
      "metadata": {
        "id": "ovDTz8hJ9sgb"
      },
      "source": [
        "def hierarchical_clustering(data,linkage,no_of_clusters):\n",
        "  \"\"\"first step is to calculate the initial distance matrix\n",
        "     it consists distances from all the point to all the point\n",
        "  \"\"\"\n",
        "  color = ['r','g','b','y','c','m','k','w']\n",
        "  initial_distances = pairwise_distances(data,metric='euclidean')\n",
        "  # making all the diagonal elements infinity\n",
        "  np.fill_diagonal(initial_distances,sys.maxsize)\n",
        "  clusters = find_clusters(initial_distances,linkage)\n",
        "\n",
        "  # plotting the clusters\n",
        "  iteration_number = initial_distances.shape[0]- no_of_clusters\n",
        "  clusters_to_plot = clusters[iteration_number]\n",
        "  arr = np.unique(clusters_to_plot)\n",
        "  indices_to_plot = []\n",
        "\n",
        "  fig = plt.figure()\n",
        "  fig.suptitle('Scatter Plot for clusters')\n",
        "  ax = fig.add_subplot(1,1,1)\n",
        "  ax.set_xlabel('X')\n",
        "  ax.set_ylabel(\"C\")\n",
        "  for x in np.nditer(arr):\n",
        "    indices_to_plot.append(np.where(clusters_to_plot==x))\n",
        "  p=0\n",
        "  print(clusters_to_plot)\n",
        "\n",
        "  for i in range(0,len(indices_to_plot)):\n",
        "    for j in np.nditer(indices_to_plot[i]):\n",
        "      ax.scatter(data[j,0],data[j,1], c= color[p])\n",
        "    p = p + 1\n",
        "  plt.show()\n"
      ],
      "execution_count": null,
      "outputs": []
    },
    {
      "cell_type": "markdown",
      "metadata": {
        "id": "1BUS9nAc2hMP"
      },
      "source": [
        "### Define function `find_clusters`\n",
        "which finds and returns the clusters for all types of linkage; Single, Complete and Average\n",
        "\n"
      ]
    },
    {
      "cell_type": "code",
      "metadata": {
        "id": "7fm59KDGChAD"
      },
      "source": [
        "# function for finding clusters\n",
        "def find_clusters(input,linkage):\n",
        "  clusters = {}\n",
        "  row_index = -1\n",
        "  col_index = -1\n",
        "  array = []\n",
        "  for n in range(input.shape[0]):\n",
        "    array.append(n)\n",
        "  clusters[0] = array.copy()\n",
        "  # finding minimum value from the distance matrix\n",
        "  # note that this loop will always return minimum value from bottom triangle of matrix\n",
        "  for k in range(1, input.shape[0]):\n",
        "    min_val = sys.maxsize\n",
        "    for i in range(0, input.shape[0]):\n",
        "      for j in range(0, input.shape[1]):\n",
        "        if(input[i][j] <= min_val):\n",
        "          min_val = input[i][j]\n",
        "          row_index = i\n",
        "          col_index = j\n",
        "  # once we find the minimum value, we need to update the distance matrix\n",
        "  # updating the matrix by calculating the new distances from the cluster to\n",
        "  # all points for Single Linkage\n",
        "  if(linkage == \"single\" or linkage ==\"Single\"):\n",
        "    for i in range(0,input.shape[0]):\n",
        "      if(i != col_index):\n",
        "      # we calculate the distance of every data point from\n",
        "      # newly formed cluster and update the matrix.\n",
        "        temp = min(input[col_index][i],input[row_index][i])\n",
        "        # we update the matrix symmetrically as our distance matrix should\n",
        "        # always be symmetric\n",
        "        input[col_index][i] = temp\n",
        "        input[i][col_index] = temp\n",
        "  #for Complete Linkage\n",
        "  elif(linkage==\"Complete\" or linkage == \"complete\"):\n",
        "    for i in range(0,input.shape[0]):\n",
        "      if(i != col_index and i != row_index):\n",
        "        temp = min(input[col_index][i],input[row_index][i])\n",
        "        input[col_index][i] = temp \n",
        "        input[i][col_index] = temp\n",
        "  #for Average Linkage\n",
        "  elif(linkage==\"Average\" or linkage == \"average\"):\n",
        "    for i in range(0,input.shape[0]):\n",
        "      if(i != col_index and i != row_index):\n",
        "        temp = (input[col_index][i] + input[row_index][i])/2\n",
        "        input[col_index][i] = temp\n",
        "        input[i][col_index] = temp\n",
        "  elif(linkage==\"Centroid\" or linkage ==\"centroid\"):\n",
        "    for i in range(0,input.shape[0]):\n",
        "      if(i!=col_index and i != row_index):\n",
        "        dist_centroid = cal_dist_from_centroid(i,row_index,col_index)\n",
        "        input[col_index][i] = dist_centroid\n",
        "        input[i][col_index] = dist_centroid\n",
        "  # set the rows and columns for the cluster with higher index\n",
        "  # i.e. the row index to infinity\n",
        "  # Set input[row_index][for_all_i] = infinity\n",
        "  # set input[for_all_i][row_index] = infinity\n",
        "  for i in range (0,input.shape[0]):\n",
        "    input[row_index][i] = sys.maxsize\n",
        "    input[i][row_index] = sys.maxsize\n",
        "  # Manipulating the dictionary to keep track of cluster formation in each step\n",
        "  # if k=0,then all datapoints are clusters\n",
        "  minimum = min(row_index,col_index)\n",
        "  maximum = max(row_index,col_index)\n",
        "  for n in range(len(array)):\n",
        "    if(array[n]==maximum):\n",
        "      array[n] = minimum\n",
        "  clusters[k] = array.copy()\n",
        "  return clusters\n"
      ],
      "execution_count": null,
      "outputs": []
    },
    {
      "cell_type": "markdown",
      "metadata": {
        "id": "fORudWkC26gP"
      },
      "source": [
        "### Call the function `hierarchical_clustering`\n",
        "with `data`, _type of linkage_ and _no. of clusters_"
      ]
    },
    {
      "cell_type": "code",
      "metadata": {
        "colab": {
          "base_uri": "https://localhost:8080/",
          "height": 326
        },
        "id": "FAXuMDNIFDs6",
        "outputId": "a83db4bb-0990-4110-ae80-e9d94d385e47"
      },
      "source": [
        "hierarchical_clustering(data,\"single\",6)"
      ],
      "execution_count": null,
      "outputs": [
        {
          "output_type": "stream",
          "name": "stdout",
          "text": [
            "[0, 1, 2, 3, 4, 5]\n"
          ]
        },
        {
          "output_type": "display_data",
          "data": {
            "image/png": "[encoded data removed]",
            "text/plain": [
              "<Figure size 432x288 with 1 Axes>"
            ]
          },
          "metadata": {
            "needs_background": "light"
          }
        }
      ]
    },
    {
      "cell_type": "markdown",
      "metadata": {
        "id": "3JZX4M064ts7"
      },
      "source": [
        "## Generate Dendrogram for dataset"
      ]
    },
    {
      "cell_type": "markdown",
      "metadata": {
        "id": "LDrzjoZv5EnS"
      },
      "source": [
        "### Import necessary packages"
      ]
    },
    {
      "cell_type": "code",
      "metadata": {
        "colab": {
          "base_uri": "https://localhost:8080/"
        },
        "id": "hv9LN9LHFHml",
        "outputId": "42c6c2ef-ea8c-4c1f-9ab5-08746828d6d0"
      },
      "source": [
        "from scipy.cluster.hierarchy import dendrogram, linkage\n",
        "X = data.copy()\n",
        "print(X)"
      ],
      "execution_count": null,
      "outputs": [
        {
          "output_type": "stream",
          "name": "stdout",
          "text": [
            "[[0.4  0.53]\n",
            " [0.22 0.38]\n",
            " [0.35 0.32]\n",
            " [0.26 0.19]\n",
            " [0.08 0.41]\n",
            " [0.45 0.3 ]]\n"
          ]
        }
      ]
    },
    {
      "cell_type": "markdown",
      "metadata": {
        "id": "O1WZf3bo5N9E"
      },
      "source": [
        "Define the linkage var from `linkage` and call `dendogram` function by passing this object"
      ]
    },
    {
      "cell_type": "code",
      "metadata": {
        "colab": {
          "base_uri": "https://localhost:8080/",
          "height": 540
        },
        "id": "T957xA6HFwKM",
        "outputId": "e71ac72d-3457-42b9-c55e-5146e61ba85a"
      },
      "source": [
        "Z = linkage(X, 'ward')\n",
        "fig = plt.figure(figsize=(25, 10))\n",
        "dn = dendrogram(Z)"
      ],
      "execution_count": null,
      "outputs": [
        {
          "output_type": "display_data",
          "data": {
            "image/png": "[encoded data removed]",
            "text/plain": [
              "<Figure size 1800x720 with 1 Axes>"
            ]
          },
          "metadata": {
            "needs_background": "light"
          }
        }
      ]
    }
  ]
}